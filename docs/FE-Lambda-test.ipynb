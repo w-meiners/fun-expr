{
 "cells": [
  {
   "cell_type": "code",
   "execution_count": 1,
   "metadata": {},
   "outputs": [
    {
     "name": "stdout",
     "output_type": "stream",
     "text": [
      "3.6.3 |Anaconda custom (64-bit)| (default, Nov  8 2017, 18:10:31) \n",
      "[GCC 4.2.1 Compatible Clang 4.0.1 (tags/RELEASE_401/final)]\n"
     ]
    }
   ],
   "source": [
    "import sys\n",
    "print(sys.version)"
   ]
  },
  {
   "cell_type": "code",
   "execution_count": 2,
   "metadata": {},
   "outputs": [
    {
     "data": {
      "text/plain": [
       "sys.version_info(major=3, minor=6, micro=3, releaselevel='final', serial=0)"
      ]
     },
     "execution_count": 2,
     "metadata": {},
     "output_type": "execute_result"
    }
   ],
   "source": [
    "sys.version_info"
   ]
  },
  {
   "cell_type": "code",
   "execution_count": 3,
   "metadata": {},
   "outputs": [
    {
     "data": {
      "text/plain": [
       "'1.1.1'"
      ]
     },
     "execution_count": 3,
     "metadata": {},
     "output_type": "execute_result"
    }
   ],
   "source": [
    "import sympy\n",
    "sympy.__version__"
   ]
  },
  {
   "cell_type": "code",
   "execution_count": 4,
   "metadata": {},
   "outputs": [],
   "source": [
    "from sympy import *\n",
    "init_printing()"
   ]
  },
  {
   "cell_type": "markdown",
   "metadata": {},
   "source": [
    "The next cell implements a `class FE(Lambda)` similar to the definition in `fun_expr.Function_from_Expression`.\n",
    "\n",
    "I had expected there is no need to define a `__new__()` method for `class FE(Lambda)`. But something goes wrong and i can not figure out, what it is. If line 5 in the next cell \n",
    "\n",
    "`return super().__new__(cls, variables, expr)`\n",
    "\n",
    "is commented, the `__new__()` method of `FE` is defined and everything works as expected, but\n",
    "\n",
    "`FE(x,x)`\n",
    "\n",
    "is not the IdentitiyFunction anymore. Line 5 of the next cell is a shortcut to `Lambda.__new__()`. Alternatively to uncomment this line, the whole method `FE.__new__()` could be commented. Then\n",
    "\n",
    "`FE(x,x)` \n",
    "\n",
    "results in the IdentityFunction, but is no more of class `FE` with the result, that i.e.\n",
    "\n",
    "`FE(x,x).diff(x) == 0` \n",
    "\n",
    "holds true. Somehow -i have no clue, how- the inheritance hierarchy is broken. Maybe the problem is, that\n",
    "\n",
    "`sympy.functions.elementary.miscellaneous.IdentityFunction`\n",
    "\n",
    "inherits from `Lambda`."
   ]
  },
  {
   "cell_type": "code",
   "execution_count": 5,
   "metadata": {},
   "outputs": [],
   "source": [
    "class FE(Lambda):\n",
    "    def __new__(cls, variables, expr):\n",
    "        # shortcut:\n",
    "        # comment the next line and everything works\n",
    "        return super().__new__(cls, variables, expr)\n",
    "        \"\"\"\n",
    "        Create the body of the function.\n",
    "        \n",
    "        __new__ must be redefined in order to avoid to\n",
    "        return the IdentityFunction. The IdentityFunction is \n",
    "        not of type FE, so there are no methods of this class\n",
    "        available.\n",
    "        \"\"\"\n",
    "        \n",
    "        # see source of Lambda for the next lines\n",
    "        from sympy.utilities.iterables import iterable\n",
    "        v = list(variables) if iterable(variables) else [variables]\n",
    "        for i in v:\n",
    "            if not getattr(i, 'is_Symbol', False):\n",
    "                raise TypeError('variable is not a symbol: %s' % i)\n",
    "\n",
    "        obj = Expr.__new__(cls, Tuple(*v), sympify(expr))\n",
    "        obj.nargs = FiniteSet(len(v))\n",
    "        return obj\n",
    "    \n",
    "    \n",
    "    def diff(self, *symbols, **assumptions):\n",
    "        \"\"\"\n",
    "        Differentiate function.\n",
    "        \n",
    "        Returns a function with the variables of this function\n",
    "        and the differentiated expression.\n",
    "        \n",
    "        If as_function=False then return differentiated expression\n",
    "        \n",
    "        Example:\n",
    "        >>> from sympy import *\n",
    "        >>> a,x = symbols('a,x')\n",
    "        >>> f = FE(x, a*x**2)\n",
    "        >>> f.diff() # returns error\n",
    "        >>> f.diff(x)\n",
    "        ((x) \\mapsto 2*a*x)\n",
    "        >>> f.diff(x, as_function = False)\n",
    "        2*a*x\n",
    "        \"\"\"\n",
    "        as_function = assumptions.pop('as_function',True)\n",
    "        expr = self.expr.diff(*symbols, **assumptions)\n",
    "        if as_function:\n",
    "            return FE(self.variables, expr)\n",
    "        return expr\n",
    "    \n",
    "    def integrate(self, *args, **kwargs):\n",
    "        \"\"\"\n",
    "        integrate returns the result as expression\n",
    "        \n",
    "        If as_function=True return result as function\n",
    "        of the remaining variables. If no variables are left,\n",
    "        raise TypeError('no variable left to define a function')\n",
    "        \n",
    "        Example:\n",
    "        >>> from sympy import *\n",
    "        >>> from myfunction import Function_from_Expression as FE\n",
    "        >>> a,x = symbols('a,x')\n",
    "        >>> f = FE(x, a*x**2)\n",
    "        >>> f.integrate(x)\n",
    "        a*x**3/3\n",
    "        >>> x_0, x_1 = symbols('x_0,x_1')\n",
    "        >>> f.integrate((x,x_0,x_1))\n",
    "        -a*x_0**3/3 + a*x_1**3/3\n",
    "        >>> f.integrate(x,as_function=True)\n",
    "        ((x) \\mapsto a*x**3/3)\n",
    "        >>> f.integrate((x,1,2), as_function=True) # raises TypeError\n",
    "        \"\"\"\n",
    "        as_function = kwargs.pop('as_function', False)\n",
    "        expr = self.expr.integrate(*args, **kwargs)\n",
    "        \n",
    "        if as_function:\n",
    "            free_symbols = expr.free_symbols\n",
    "            new_variables = tuple(v for v in self.variables if v in free_symbols)\n",
    "            if new_variables:\n",
    "                return FE(new_variables, expr)\n",
    "            else:\n",
    "                raise TypeError('no variable left to define a function')\n",
    "        \n",
    "        return expr\n",
    "\n"
   ]
  },
  {
   "cell_type": "code",
   "execution_count": 6,
   "metadata": {},
   "outputs": [
    {
     "data": {
      "image/png": "[encoded data removed]",
      "text/latex": [
       "$$\\left( x \\mapsto x^{2} \\right)$$"
      ],
      "text/plain": [
       "     2\n",
       "x ↦ x "
      ]
     },
     "execution_count": 6,
     "metadata": {},
     "output_type": "execute_result"
    }
   ],
   "source": [
    "x = Symbol('x')\n",
    "f = FE(x, x**2)\n",
    "f"
   ]
  },
  {
   "cell_type": "code",
   "execution_count": 7,
   "metadata": {},
   "outputs": [
    {
     "data": {
      "text/plain": [
       "True"
      ]
     },
     "execution_count": 7,
     "metadata": {},
     "output_type": "execute_result"
    }
   ],
   "source": [
    "f.is_Function"
   ]
  },
  {
   "cell_type": "code",
   "execution_count": 8,
   "metadata": {},
   "outputs": [
    {
     "data": {
      "image/png": "[encoded data removed]",
      "text/latex": [
       "$$\\left( x \\mapsto 2 x \\right)$$"
      ],
      "text/plain": [
       "x ↦ 2⋅x"
      ]
     },
     "execution_count": 8,
     "metadata": {},
     "output_type": "execute_result"
    }
   ],
   "source": [
    "f_1 = f.diff(x)\n",
    "f_1"
   ]
  },
  {
   "cell_type": "code",
   "execution_count": 9,
   "metadata": {},
   "outputs": [
    {
     "data": {
      "image/png": "[encoded data removed]",
      "text/latex": [
       "$$\\left( x \\mapsto \\frac{x^{3}}{3} \\right)$$"
      ],
      "text/plain": [
       "     3\n",
       "    x \n",
       "x ↦ ──\n",
       "    3 "
      ]
     },
     "execution_count": 9,
     "metadata": {},
     "output_type": "execute_result"
    }
   ],
   "source": [
    "e = f.integrate(x, as_function=True)\n",
    "e"
   ]
  },
  {
   "cell_type": "code",
   "execution_count": 10,
   "metadata": {},
   "outputs": [
    {
     "data": {
      "image/png": "[encoded data removed]",
      "text/latex": [
       "$$\\left( x \\mapsto x \\right)$$"
      ],
      "text/plain": [
       "x ↦ x"
      ]
     },
     "execution_count": 10,
     "metadata": {},
     "output_type": "execute_result"
    }
   ],
   "source": [
    "g = FE(x,x)\n",
    "g"
   ]
  },
  {
   "cell_type": "code",
   "execution_count": 11,
   "metadata": {},
   "outputs": [
    {
     "data": {
      "text/plain": [
       "sympy.functions.elementary.miscellaneous.IdentityFunction"
      ]
     },
     "execution_count": 11,
     "metadata": {},
     "output_type": "execute_result"
    }
   ],
   "source": [
    "type(g)"
   ]
  },
  {
   "cell_type": "code",
   "execution_count": 12,
   "metadata": {},
   "outputs": [
    {
     "data": {
      "text/plain": [
       "True"
      ]
     },
     "execution_count": 12,
     "metadata": {},
     "output_type": "execute_result"
    }
   ],
   "source": [
    "g.is_Function"
   ]
  },
  {
   "cell_type": "code",
   "execution_count": 13,
   "metadata": {},
   "outputs": [
    {
     "data": {
      "text/plain": [
       "False"
      ]
     },
     "execution_count": 13,
     "metadata": {},
     "output_type": "execute_result"
    }
   ],
   "source": [
    "isinstance(g,FE)"
   ]
  },
  {
   "cell_type": "code",
   "execution_count": 14,
   "metadata": {},
   "outputs": [
    {
     "data": {
      "text/plain": [
       "True"
      ]
     },
     "execution_count": 14,
     "metadata": {},
     "output_type": "execute_result"
    }
   ],
   "source": [
    "isinstance(g,Lambda)"
   ]
  },
  {
   "cell_type": "code",
   "execution_count": 15,
   "metadata": {},
   "outputs": [
    {
     "data": {
      "text/plain": [
       "True"
      ]
     },
     "execution_count": 15,
     "metadata": {},
     "output_type": "execute_result"
    }
   ],
   "source": [
    "isinstance(g,sympy.functions.elementary.miscellaneous.IdentityFunction)"
   ]
  },
  {
   "cell_type": "code",
   "execution_count": 16,
   "metadata": {},
   "outputs": [
    {
     "data": {
      "image/png": "[encoded data removed]",
      "text/latex": [
       "$$0$$"
      ],
      "text/plain": [
       "0"
      ]
     },
     "execution_count": 16,
     "metadata": {},
     "output_type": "execute_result"
    }
   ],
   "source": [
    "# wrong:\n",
    "g_1 = g.diff(x)\n",
    "g_1"
   ]
  },
  {
   "cell_type": "code",
   "execution_count": 17,
   "metadata": {},
   "outputs": [
    {
     "data": {
      "image/png": "[encoded data removed]",
      "text/latex": [
       "$$\\left ( x\\right )$$"
      ],
      "text/plain": [
       "(x,)"
      ]
     },
     "execution_count": 17,
     "metadata": {},
     "output_type": "execute_result"
    }
   ],
   "source": [
    "g.variables"
   ]
  },
  {
   "cell_type": "code",
   "execution_count": 18,
   "metadata": {},
   "outputs": [
    {
     "data": {
      "image/png": "[encoded data removed]",
      "text/latex": [
       "$$x$$"
      ],
      "text/plain": [
       "x"
      ]
     },
     "execution_count": 18,
     "metadata": {},
     "output_type": "execute_result"
    }
   ],
   "source": [
    "g.expr"
   ]
  },
  {
   "cell_type": "code",
   "execution_count": 19,
   "metadata": {},
   "outputs": [
    {
     "data": {
      "image/png": "[encoded data removed]",
      "text/latex": [
       "$$1$$"
      ],
      "text/plain": [
       "1"
      ]
     },
     "execution_count": 19,
     "metadata": {},
     "output_type": "execute_result"
    }
   ],
   "source": [
    "g(x).diff(x)"
   ]
  },
  {
   "cell_type": "code",
   "execution_count": 20,
   "metadata": {},
   "outputs": [
    {
     "data": {
      "image/png": "[encoded data removed]",
      "text/latex": [
       "$$\\left( x \\mapsto \\frac{x^{2}}{2} \\right)$$"
      ],
      "text/plain": [
       "     2\n",
       "    x \n",
       "x ↦ ──\n",
       "    2 "
      ]
     },
     "execution_count": 20,
     "metadata": {},
     "output_type": "execute_result"
    }
   ],
   "source": [
    "h = FE(x, x**2/2)\n",
    "h"
   ]
  },
  {
   "cell_type": "code",
   "execution_count": 21,
   "metadata": {},
   "outputs": [
    {
     "data": {
      "text/plain": [
       "True"
      ]
     },
     "execution_count": 21,
     "metadata": {},
     "output_type": "execute_result"
    }
   ],
   "source": [
    "isinstance(h,FE)"
   ]
  },
  {
   "cell_type": "code",
   "execution_count": 22,
   "metadata": {},
   "outputs": [
    {
     "data": {
      "text/plain": [
       "False"
      ]
     },
     "execution_count": 22,
     "metadata": {},
     "output_type": "execute_result"
    }
   ],
   "source": [
    "isinstance(h.diff(x),FE)"
   ]
  },
  {
   "cell_type": "code",
   "execution_count": 23,
   "metadata": {},
   "outputs": [
    {
     "data": {
      "text/plain": [
       "True"
      ]
     },
     "execution_count": 23,
     "metadata": {},
     "output_type": "execute_result"
    }
   ],
   "source": [
    "isinstance(h.diff(x),Lambda)"
   ]
  },
  {
   "cell_type": "code",
   "execution_count": 24,
   "metadata": {},
   "outputs": [
    {
     "data": {
      "image/png": "[encoded data removed]",
      "text/latex": [
       "$$0$$"
      ],
      "text/plain": [
       "0"
      ]
     },
     "execution_count": 24,
     "metadata": {},
     "output_type": "execute_result"
    }
   ],
   "source": [
    "# wrong\n",
    "h.diff(x).diff(x)"
   ]
  },
  {
   "cell_type": "code",
   "execution_count": 25,
   "metadata": {},
   "outputs": [
    {
     "data": {
      "image/png": "[encoded data removed]",
      "text/latex": [
       "$$\\left( x \\mapsto 1 \\right)$$"
      ],
      "text/plain": [
       "x ↦ 1"
      ]
     },
     "execution_count": 25,
     "metadata": {},
     "output_type": "execute_result"
    }
   ],
   "source": [
    "# correct\n",
    "h.diff(x,2)"
   ]
  },
  {
   "cell_type": "code",
   "execution_count": 26,
   "metadata": {},
   "outputs": [
    {
     "data": {
      "image/png": "[encoded data removed]",
      "text/latex": [
       "$$1$$"
      ],
      "text/plain": [
       "1"
      ]
     },
     "execution_count": 26,
     "metadata": {},
     "output_type": "execute_result"
    }
   ],
   "source": [
    "# weird\n",
    "h.diff(x)(x).diff(x)"
   ]
  }
 ],
 "metadata": {
  "kernelspec": {
   "display_name": "Python 3",
   "language": "python",
   "name": "python3"
  },
  "language_info": {
   "codemirror_mode": {
    "name": "ipython",
    "version": 3
   },
   "file_extension": ".py",
   "mimetype": "text/x-python",
   "name": "python",
   "nbconvert_exporter": "python",
   "pygments_lexer": "ipython3",
   "version": "3.6.3"
  }
 },
 "nbformat": 4,
 "nbformat_minor": 2
}

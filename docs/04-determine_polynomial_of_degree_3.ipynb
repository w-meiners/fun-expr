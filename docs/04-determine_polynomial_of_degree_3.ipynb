{
 "cells": [
  {
   "cell_type": "markdown",
   "metadata": {},
   "source": [
    "Determine a polynomial $f(x)$ of degree 3 from the following information:\n",
    "\n",
    "- $f(x)$ has a stationary point at $P(0|4)$\n",
    "- $f(x)$ has an inflection point at $Q(2|2)$\n",
    "\n",
    "Plot the graph of the resulting function for $-2.1 \\le x \\le 6.1$."
   ]
  },
  {
   "cell_type": "markdown",
   "metadata": {},
   "source": [
    "## Solution\n",
    "\n",
    "The first step consists of some initialisations"
   ]
  },
  {
   "cell_type": "code",
   "execution_count": 1,
   "metadata": {},
   "outputs": [],
   "source": [
    "# Initialisations\n",
    "from sympy import *\n",
    "init_printing()\n",
    "\n",
    "import matplotlib.pyplot as plt\n",
    "%matplotlib inline\n",
    "%config InlineBackend.figure_format='retina' # for OSX only\n",
    "\n",
    "import numpy as np\n",
    "\n",
    "from IPython.display import display, Math\n",
    "\n",
    "from fun_expr import Function_from_Expression as FE"
   ]
  },
  {
   "cell_type": "markdown",
   "metadata": {},
   "source": [
    "Then, the function $f(x)$ is defined as\n",
    "\n",
    "$$\n",
    "  f(x) = a\\,x^3 + b\\,x^2 + c\\,x + d\n",
    "$$\n",
    "\n",
    "with unknown coefficients $a\\cdots d$."
   ]
  },
  {
   "cell_type": "code",
   "execution_count": 2,
   "metadata": {},
   "outputs": [
    {
     "data": {
      "text/latex": [
       "$$f(x)=a x^{3} + b x^{2} + c x + d$$"
      ],
      "text/plain": [
       "<IPython.core.display.Math object>"
      ]
     },
     "metadata": {},
     "output_type": "display_data"
    },
    {
     "data": {
      "text/latex": [
       "$$f'(x)=3 a x^{2} + 2 b x + c$$"
      ],
      "text/plain": [
       "<IPython.core.display.Math object>"
      ]
     },
     "metadata": {},
     "output_type": "display_data"
    },
    {
     "data": {
      "text/latex": [
       "$$f''(x)=6 a x + 2 b$$"
      ],
      "text/plain": [
       "<IPython.core.display.Math object>"
      ]
     },
     "metadata": {},
     "output_type": "display_data"
    }
   ],
   "source": [
    "# define f\n",
    "\n",
    "x = Symbol('x')\n",
    "\n",
    "a,b,c,d = symbols('a,b,c,d')\n",
    "\n",
    "f = FE(x, a*x**3 + b*x**2 + c*x + d)\n",
    "f_1 = f.diff(x)\n",
    "f_2 = f.diff(x,2)\n",
    "\n",
    "display(Math(\"f(x)=\"+latex(f(x))))\n",
    "display(Math(\"f'(x)=\"+latex(f_1(x))))\n",
    "display(Math(\"f''(x)=\"+latex(f_2(x))))"
   ]
  },
  {
   "cell_type": "markdown",
   "metadata": {},
   "source": [
    "The unknown coefficients are determined by the conditions\n",
    "\n",
    "\\begin{align*}\n",
    "  f(x_s) &= y_s \\\\\n",
    "  f(x_i) &= y_i \\\\\n",
    "  f'(x_s) &= 0 \\\\\n",
    "  f''(x_i) &= 0 \\\\\n",
    "\\end{align*}\n",
    "\n",
    "Here, $(x_s|y_s)$ is the stationary point and $(x_i|y_i)$ the inflection point."
   ]
  },
  {
   "cell_type": "code",
   "execution_count": 3,
   "metadata": {},
   "outputs": [
    {
     "data": {
      "image/png": "[encoded data removed]",
      "text/latex": [
       "$$d = 4$$"
      ],
      "text/plain": [
       "d = 4"
      ]
     },
     "metadata": {},
     "output_type": "display_data"
    },
    {
     "data": {
      "image/png": "[encoded data removed]",
      "text/latex": [
       "$$c = 0$$"
      ],
      "text/plain": [
       "c = 0"
      ]
     },
     "metadata": {},
     "output_type": "display_data"
    },
    {
     "data": {
      "image/png": "[encoded data removed]",
      "text/latex": [
       "$$8 a + 4 b + 2 c + d = 2$$"
      ],
      "text/plain": [
       "8⋅a + 4⋅b + 2⋅c + d = 2"
      ]
     },
     "metadata": {},
     "output_type": "display_data"
    },
    {
     "data": {
      "image/png": "[encoded data removed]",
      "text/latex": [
       "$$12 a + 2 b = 0$$"
      ],
      "text/plain": [
       "12⋅a + 2⋅b = 0"
      ]
     },
     "metadata": {},
     "output_type": "display_data"
    }
   ],
   "source": [
    "# known information\n",
    "x_s, y_s = 0,4\n",
    "x_i, y_i = 2,2\n",
    "p_s = (x_s,y_s) # stationary point\n",
    "p_i = (x_i,y_i) # inflection point\n",
    "\n",
    "# equations\n",
    "eqns = [Eq(f(x_s),y_s), \n",
    "        Eq(f_1(x_s),0),\n",
    "        Eq(f(x_i),y_i),\n",
    "        Eq(f_2(x_i),0)]\n",
    "\n",
    "for eq in eqns:\n",
    "    display(eq)"
   ]
  },
  {
   "cell_type": "markdown",
   "metadata": {},
   "source": [
    "The resulting system of equations is solved"
   ]
  },
  {
   "cell_type": "code",
   "execution_count": 4,
   "metadata": {},
   "outputs": [
    {
     "data": {
      "image/png": "[encoded data removed]",
      "text/latex": [
       "$$\\left \\{ a : \\frac{1}{8}, \\quad b : - \\frac{3}{4}, \\quad c : 0, \\quad d : 4\\right \\}$$"
      ],
      "text/plain": [
       "{a: 1/8, b: -3/4, c: 0, d: 4}"
      ]
     },
     "execution_count": 4,
     "metadata": {},
     "output_type": "execute_result"
    }
   ],
   "source": [
    "# solve equations\n",
    "sol = solve(eqns)\n",
    "sol"
   ]
  },
  {
   "cell_type": "markdown",
   "metadata": {},
   "source": [
    "... and the solution substituted into $f$, $f'$ and $f''$."
   ]
  },
  {
   "cell_type": "code",
   "execution_count": 5,
   "metadata": {},
   "outputs": [
    {
     "data": {
      "text/latex": [
       "$$f(x)=\\frac{x^{3}}{8} - \\frac{3 x^{2}}{4} + 4$$"
      ],
      "text/plain": [
       "<IPython.core.display.Math object>"
      ]
     },
     "metadata": {},
     "output_type": "display_data"
    },
    {
     "data": {
      "text/latex": [
       "$$f'(x)=\\frac{3 x^{2}}{8} - \\frac{3 x}{2}$$"
      ],
      "text/plain": [
       "<IPython.core.display.Math object>"
      ]
     },
     "metadata": {},
     "output_type": "display_data"
    },
    {
     "data": {
      "text/latex": [
       "$$f''(x)=\\frac{3 x}{4} - \\frac{3}{2}$$"
      ],
      "text/plain": [
       "<IPython.core.display.Math object>"
      ]
     },
     "metadata": {},
     "output_type": "display_data"
    }
   ],
   "source": [
    "# substitute solution\n",
    "f = f.subs(sol)\n",
    "f_1 = f_1.subs(sol)\n",
    "f_2 = f_2.subs(sol)\n",
    "display(Math('f(x)='+latex(f(x))))\n",
    "display(Math(\"f'(x)=\"+latex(f_1(x))))\n",
    "display(Math(\"f''(x)=\"+latex(f_2(x))))"
   ]
  },
  {
   "cell_type": "markdown",
   "metadata": {},
   "source": [
    "The resulting function $f(x)$ is plotted over $-2.1 \\le x \\le 6.1$ "
   ]
  },
  {
   "cell_type": "code",
   "execution_count": 6,
   "metadata": {},
   "outputs": [
    {
     "data": {
      "image/png": "[encoded data removed]",
      "text/plain": [
       "<matplotlib.figure.Figure at 0x10aa05860>"
      ]
     },
     "metadata": {
      "image/png": {
       "height": 263,
       "width": 377
      }
     },
     "output_type": "display_data"
    }
   ],
   "source": [
    "# define new plot\n",
    "fig, ax = plt.subplots()\n",
    "\n",
    "# x-values\n",
    "lx = np.linspace(-2.1,6.1)\n",
    "\n",
    "# plot\n",
    "ax.plot(lx,f.lambdified(lx),label=r'$y={f}$'.format(f=latex(f(x))))\n",
    "ax.scatter(*zip(*[p_s,p_i]))\n",
    "\n",
    "# refine plot\n",
    "ax.axhline(0,c='k')\n",
    "ax.axvline(0,c='k')\n",
    "ax.grid(True)\n",
    "ax.set_xlabel('x')\n",
    "ax.set_ylabel('y')\n",
    "ax.legend(loc='best')\n",
    "\n",
    "# show plot\n",
    "plt.show()"
   ]
  }
 ],
 "metadata": {
  "kernelspec": {
   "display_name": "Python 3",
   "language": "python",
   "name": "python3"
  },
  "language_info": {
   "codemirror_mode": {
    "name": "ipython",
    "version": 3
   },
   "file_extension": ".py",
   "mimetype": "text/x-python",
   "name": "python",
   "nbconvert_exporter": "python",
   "pygments_lexer": "ipython3",
   "version": "3.6.3"
  }
 },
 "nbformat": 4,
 "nbformat_minor": 2
}

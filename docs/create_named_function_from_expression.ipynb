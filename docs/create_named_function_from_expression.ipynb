{
 "cells": [
  {
   "cell_type": "markdown",
   "metadata": {},
   "source": [
    "# Create named function from an expression"
   ]
  },
  {
   "cell_type": "markdown",
   "metadata": {},
   "source": [
    "This is not implemented inside `fun_expr`. Sometimes it is useful to have named functions that know about their name and can use this"
   ]
  },
  {
   "cell_type": "markdown",
   "metadata": {},
   "source": [
    "Initialisations:"
   ]
  },
  {
   "cell_type": "code",
   "execution_count": 1,
   "metadata": {},
   "outputs": [],
   "source": [
    "from sympy import *\n",
    "init_printing()\n",
    "\n",
    "import matplotlib.pyplot as plt\n",
    "%matplotlib inline\n",
    "%config InlineBackend.figure_format='retina'\n",
    "\n",
    "import numpy as np\n",
    "\n",
    "from IPython.display import display, Math, display_latex, Latex\n",
    "\n",
    "from fun_expr import Function_from_Expression as FE"
   ]
  },
  {
   "cell_type": "markdown",
   "metadata": {},
   "source": [
    "To create named functions, subclass FE:"
   ]
  },
  {
   "cell_type": "code",
   "execution_count": 68,
   "metadata": {},
   "outputs": [],
   "source": [
    "class Named_Function_from_Expression(FE):\n",
    "    \"\"\"\n",
    "    Create a named function from an expression.\n",
    "    \n",
    "    Example fo use:\n",
    "    >>> from sympy import *\n",
    "    >>> from fun_expr import (\n",
    "            Function_from_Expression as FE,\n",
    "            Named_Function_from_Expression as NFE,\n",
    "            )\n",
    "    >>> f = NFE(\"f\", x, x**2)\n",
    "    >>> f.displ()\n",
    "    '$f(x) = x^{2}$'\n",
    "    >>> f_1 = f.diff(x,name=\"f'\")\n",
    "    >>> f_1.displ()\n",
    "    \"$f'(x) = 2 x$\"\n",
    "    >>> f_1 = f.diff(x)\n",
    "    '((x) \\mapsto 2\\,x)'\n",
    "    >>> print(type(f_1))\n",
    "    fun_expr.function_from_expression.Function_from_Expression\n",
    "    >>> f.displ(2)\n",
    "    '$f(2) = 4$'\n",
    "    \"\"\"\n",
    "    \n",
    "    def __new__(cls, name, variables, expr):\n",
    "        obj = FE.__new__(cls, variables, expr)\n",
    "        obj.name = name\n",
    "        return obj\n",
    "    \n",
    "    def displ(self, *values, par=\"$\", n=False, simplify=False, **kwargs):\n",
    "        \"\"\"\n",
    "        This is a convenience function to display the equation \n",
    "        \n",
    "          $f(x_1,x_2,...) = rhs$\n",
    "          or \n",
    "          $$f(x_1,x_2,...) = rhs$$ # if par='$$'\n",
    "          \n",
    "        in latex-notation. \n",
    "\n",
    "        If values == (): replace rhs by self.expr\n",
    "        instead. If values are specified, exactly one \n",
    "        value for every variable of this function is \n",
    "        expected.\n",
    "        \n",
    "        If n ist True, replace the rhs by rhs.n().\n",
    "        If n is an integer number replace the rhs by rhs.n(n).\n",
    "        \n",
    "        If simplify is true, simplify rhs.\n",
    "        \n",
    "        Here rhs always is the right hand side of the equation.\n",
    "        \"\"\"\n",
    "        \n",
    "        # there are exactly two possibilities:\n",
    "        #    either there is no value at all, values == ()\n",
    "        #    or there are exactly len(self.variables) values.\n",
    "        #    if there are no values, set rhs to self.expr\n",
    "        #    else calculate rhs = f(*values)\n",
    "        if values is not ():\n",
    "            vals = values \n",
    "            rhs = super().__call__(*values, **kwargs) \n",
    "        else:\n",
    "            vals = self.variables\n",
    "            rhs = self.expr\n",
    "        \n",
    "        # n can be None, bool or int.\n",
    "        # if n is None do nothing\n",
    "        # if n is bool and n is True, replace rhs by rhs.n()\n",
    "        # if n is bool and n is False, do nothing\n",
    "        # if n is int replace rhs by rhs.n(n)\n",
    "        if n is not None:\n",
    "            if isinstance(n, bool):\n",
    "                if n:\n",
    "                    rhs = rhs.n()\n",
    "            else:\n",
    "                rhs = rhs.n(n)\n",
    "        \n",
    "        # simplify can be True or False\n",
    "        # if simplfiy ist True, the rhs is simplified\n",
    "        if simplify:\n",
    "            rhs = rhs.simplify()\n",
    "        \n",
    "        # create output as \n",
    "        #    f(x_1,x_2,...) = rhs\n",
    "        # in latex notation\n",
    "        ret_val = par \n",
    "        ret_val += latex(self.name)\n",
    "        ret_val += r\"\\left({vars}\\right) = \".format(vars=','.join(latex(v) for v in vals))\n",
    "        ret_val += latex(rhs) \n",
    "        ret_val += par\n",
    "        return ret_val\n",
    "    \n",
    "    def diff(self, *symbols, **assumptions):\n",
    "        \"\"\"\n",
    "        If a name is specified, as_function is set to True.\n",
    "        In this case, a Named_Function_of_Expression is retured.\n",
    "        If no name is specified, the result depends on as_function\n",
    "        \"\"\"\n",
    "        name = assumptions.pop('name',None)\n",
    "        as_function = assumptions.pop('as_function', True) or name is not None \n",
    "        # let my parent do the hard part \n",
    "        res = super().diff(*symbols, as_function=as_function, **assumptions)\n",
    "        if name is not None:\n",
    "            return Named_Function_from_Expression(name, res.variables, res.expr)\n",
    "        else:\n",
    "            return res\n",
    "        \n",
    "    def integrate(self, *args, **kwargs):\n",
    "        \"\"\"\n",
    "        If a name is specified, as_function is set to True.\n",
    "        In this case, a Named_Function_of_Expression is returned.\n",
    "        If no name is specified, the result depends on as_function\n",
    "        \"\"\"\n",
    "        name = kwargs.pop('name',None)\n",
    "        as_function = kwargs.pop('as_function', False) or name is not None\n",
    "        # let my parent do the hard part\n",
    "        res = super().integrate(*args, as_function=as_function, **kwargs)\n",
    "        if name is not None:\n",
    "            return Named_Function_from_Expression(name, res.variables, res.expr)\n",
    "        else:\n",
    "            return res"
   ]
  },
  {
   "cell_type": "markdown",
   "metadata": {},
   "source": [
    "Create a simple function to test `Named_Function_from_Expression`:"
   ]
  },
  {
   "cell_type": "code",
   "execution_count": 69,
   "metadata": {},
   "outputs": [
    {
     "data": {
      "text/plain": [
       "'$f\\\\left(x\\\\right) = x^{2}$'"
      ]
     },
     "execution_count": 69,
     "metadata": {},
     "output_type": "execute_result"
    }
   ],
   "source": [
    "x = Symbol('x')\n",
    "f = Named_Function_from_Expression(\"f\",x,x**2)\n",
    "f.displ()"
   ]
  },
  {
   "cell_type": "code",
   "execution_count": 70,
   "metadata": {},
   "outputs": [
    {
     "data": {
      "text/plain": [
       "'$$f\\\\left(x\\\\right) = x^{2}$$'"
      ]
     },
     "execution_count": 70,
     "metadata": {},
     "output_type": "execute_result"
    }
   ],
   "source": [
    "f.displ(par='$$')"
   ]
  },
  {
   "cell_type": "code",
   "execution_count": 71,
   "metadata": {},
   "outputs": [
    {
     "data": {
      "text/latex": [
       "$$f\\left(x\\right) = x^{2}$$"
      ],
      "text/plain": [
       "<IPython.core.display.Math object>"
      ]
     },
     "execution_count": 71,
     "metadata": {},
     "output_type": "execute_result"
    }
   ],
   "source": [
    "# to have nice output:\n",
    "Math(f.displ())"
   ]
  },
  {
   "cell_type": "code",
   "execution_count": 72,
   "metadata": {},
   "outputs": [
    {
     "data": {
      "text/plain": [
       "'$f\\\\left(2\\\\right) = 4$'"
      ]
     },
     "metadata": {},
     "output_type": "display_data"
    },
    {
     "data": {
      "text/latex": [
       "$$f\\left(2\\right) = 4$$"
      ],
      "text/plain": [
       "<IPython.core.display.Math object>"
      ]
     },
     "execution_count": 72,
     "metadata": {},
     "output_type": "execute_result"
    }
   ],
   "source": [
    "display(f.displ(2))\n",
    "Math(f.displ(2))"
   ]
  },
  {
   "cell_type": "markdown",
   "metadata": {},
   "source": [
    "Plot the graph $y=f(x)$ for $-1 \\le x \\le 1$:"
   ]
  },
  {
   "cell_type": "code",
   "execution_count": 73,
   "metadata": {},
   "outputs": [
    {
     "data": {
      "text/plain": [
       "Text(0.5,1,'Graph of the square function $f\\\\left(x\\\\right) = x^{2}$')"
      ]
     },
     "execution_count": 73,
     "metadata": {},
     "output_type": "execute_result"
    },
    {
     "data": {
      "image/png": "[encoded data removed]",
      "text/plain": [
       "<matplotlib.figure.Figure at 0x118189940>"
      ]
     },
     "metadata": {
      "image/png": {
       "height": 266,
       "width": 373
      }
     },
     "output_type": "display_data"
    }
   ],
   "source": [
    "fig, ax = plt.subplots()\n",
    "\n",
    "lx = np.linspace(-1,1)\n",
    "\n",
    "ax.plot(lx,f.lambdified(lx),label=f.displ())\n",
    "ax.axhline(0,c='k')\n",
    "ax.axvline(0,c='k')\n",
    "ax.grid(True)\n",
    "ax.legend(loc='upper center')\n",
    "ax.set_title(\"Graph of the square function {f}\".format(f=f.displ()))"
   ]
  },
  {
   "cell_type": "markdown",
   "metadata": {},
   "source": [
    "Determine the derivative of $f(x)$ as named function:"
   ]
  },
  {
   "cell_type": "code",
   "execution_count": 74,
   "metadata": {},
   "outputs": [
    {
     "data": {
      "text/plain": [
       "\"$f'\\\\left(x\\\\right) = 2 x$\""
      ]
     },
     "metadata": {},
     "output_type": "display_data"
    },
    {
     "data": {
      "text/latex": [
       "$$f'\\left(x\\right) = 2 x$$"
      ],
      "text/plain": [
       "<IPython.core.display.Math object>"
      ]
     },
     "execution_count": 74,
     "metadata": {},
     "output_type": "execute_result"
    }
   ],
   "source": [
    "f_1 = f.diff(x,name=\"f'\")\n",
    "display(f_1.displ())\n",
    "Math(f_1.displ())"
   ]
  },
  {
   "cell_type": "markdown",
   "metadata": {},
   "source": [
    "If no name is specified for `f.diff(x)`, a function of class `FE` is returned:"
   ]
  },
  {
   "cell_type": "code",
   "execution_count": 75,
   "metadata": {},
   "outputs": [
    {
     "data": {
      "image/png": "[encoded data removed]",
      "text/latex": [
       "$$\\left( x \\mapsto 2 x \\right)$$"
      ],
      "text/plain": [
       "x ↦ 2⋅x"
      ]
     },
     "metadata": {},
     "output_type": "display_data"
    },
    {
     "data": {
      "text/plain": [
       "fun_expr.function_from_expression.Function_from_Expression"
      ]
     },
     "metadata": {},
     "output_type": "display_data"
    }
   ],
   "source": [
    "f_1 = f.diff(x)\n",
    "display(f_1)\n",
    "display(type(f_1))"
   ]
  },
  {
   "cell_type": "markdown",
   "metadata": {},
   "source": [
    "If no name is specified for `f.diff(x)` and `is_function=False`, an expression is returned:"
   ]
  },
  {
   "cell_type": "code",
   "execution_count": 76,
   "metadata": {},
   "outputs": [
    {
     "data": {
      "image/png": "[encoded data removed]",
      "text/latex": [
       "$$2 x$$"
      ],
      "text/plain": [
       "2⋅x"
      ]
     },
     "metadata": {},
     "output_type": "display_data"
    },
    {
     "data": {
      "text/plain": [
       "sympy.core.mul.Mul"
      ]
     },
     "execution_count": 76,
     "metadata": {},
     "output_type": "execute_result"
    }
   ],
   "source": [
    "expr = f.diff(x,as_function=False)\n",
    "display(expr)\n",
    "type(expr)"
   ]
  },
  {
   "cell_type": "markdown",
   "metadata": {},
   "source": [
    "Integration leads to an expression, not to a function:"
   ]
  },
  {
   "cell_type": "code",
   "execution_count": 77,
   "metadata": {},
   "outputs": [
    {
     "data": {
      "image/png": "[encoded data removed]",
      "text/latex": [
       "$$\\frac{x^{3}}{3}$$"
      ],
      "text/plain": [
       " 3\n",
       "x \n",
       "──\n",
       "3 "
      ]
     },
     "execution_count": 77,
     "metadata": {},
     "output_type": "execute_result"
    }
   ],
   "source": [
    "f_0 = f.integrate(x)\n",
    "f_0"
   ]
  },
  {
   "cell_type": "markdown",
   "metadata": {},
   "source": [
    "If `as_function=True` is set, the result is of type `FE`:"
   ]
  },
  {
   "cell_type": "code",
   "execution_count": 78,
   "metadata": {},
   "outputs": [
    {
     "data": {
      "image/png": "[encoded data removed]",
      "text/latex": [
       "$$\\left( x \\mapsto \\frac{x^{3}}{3} \\right)$$"
      ],
      "text/plain": [
       "     3\n",
       "    x \n",
       "x ↦ ──\n",
       "    3 "
      ]
     },
     "metadata": {},
     "output_type": "display_data"
    },
    {
     "data": {
      "text/plain": [
       "fun_expr.function_from_expression.Function_from_Expression"
      ]
     },
     "metadata": {},
     "output_type": "display_data"
    }
   ],
   "source": [
    "f_0 = f.integrate(x,as_function=True)\n",
    "display(f_0)\n",
    "display(type(f_0))"
   ]
  },
  {
   "cell_type": "markdown",
   "metadata": {},
   "source": [
    "If a name is specified `as_function` is set to `True`, the result is of type `Named_Function_from_Expression`:"
   ]
  },
  {
   "cell_type": "code",
   "execution_count": 79,
   "metadata": {},
   "outputs": [
    {
     "data": {
      "text/latex": [
       "$$f_0\\left(x\\right) = \\frac{x^{3}}{3}$$"
      ],
      "text/plain": [
       "<IPython.core.display.Math object>"
      ]
     },
     "metadata": {},
     "output_type": "display_data"
    },
    {
     "data": {
      "text/plain": [
       "__main__.Named_Function_from_Expression"
      ]
     },
     "metadata": {},
     "output_type": "display_data"
    }
   ],
   "source": [
    "f_0 = f.integrate(x,name=\"f_0\")\n",
    "display(Math(f_0.displ()))\n",
    "display(type(f_0))"
   ]
  },
  {
   "cell_type": "code",
   "execution_count": 80,
   "metadata": {},
   "outputs": [
    {
     "data": {
      "text/latex": [
       "$$f_0\\left(x\\right) = \\frac{x^{3}}{3}$$"
      ],
      "text/plain": [
       "<IPython.core.display.Math object>"
      ]
     },
     "metadata": {},
     "output_type": "display_data"
    },
    {
     "data": {
      "text/plain": [
       "__main__.Named_Function_from_Expression"
      ]
     },
     "execution_count": 80,
     "metadata": {},
     "output_type": "execute_result"
    }
   ],
   "source": [
    "f_0 = f.integrate(x,name='f_0',as_function=False)\n",
    "display(Math(f_0.displ()))\n",
    "type(f_0)"
   ]
  },
  {
   "cell_type": "code",
   "execution_count": 81,
   "metadata": {},
   "outputs": [
    {
     "data": {
      "text/latex": [
       "$$f_0\\left(3\\right) = 9$$"
      ],
      "text/plain": [
       "<IPython.core.display.Math object>"
      ]
     },
     "execution_count": 81,
     "metadata": {},
     "output_type": "execute_result"
    }
   ],
   "source": [
    "Math(f_0.displ(3))"
   ]
  },
  {
   "cell_type": "markdown",
   "metadata": {},
   "source": [
    "Named functions of more then one variable are possible, too."
   ]
  },
  {
   "cell_type": "code",
   "execution_count": 82,
   "metadata": {},
   "outputs": [
    {
     "data": {
      "text/latex": [
       "$$g\\left(x,y,z\\right) = a x y z$$"
      ],
      "text/plain": [
       "<IPython.core.display.Math object>"
      ]
     },
     "execution_count": 82,
     "metadata": {},
     "output_type": "execute_result"
    }
   ],
   "source": [
    "a,x,y,z = symbols('a,x,y,z')\n",
    "\n",
    "g = Named_Function_from_Expression('g',(x,y,z), a*x*y*z)\n",
    "Math(g.displ())"
   ]
  },
  {
   "cell_type": "code",
   "execution_count": 83,
   "metadata": {},
   "outputs": [
    {
     "data": {
      "text/latex": [
       "$$\\frac{\\partial}{\\partial z}\\,g\\left(x,y,z\\right) = a x y$$"
      ],
      "text/plain": [
       "<IPython.core.display.Math object>"
      ]
     },
     "execution_count": 83,
     "metadata": {},
     "output_type": "execute_result"
    }
   ],
   "source": [
    "Math(g.diff(z,name=r\"\\frac{\\partial}{\\partial z}\\,g\").displ())"
   ]
  },
  {
   "cell_type": "markdown",
   "metadata": {},
   "source": [
    "Names of functions can be latex expressions like `r'\\mu'`:"
   ]
  },
  {
   "cell_type": "code",
   "execution_count": 84,
   "metadata": {},
   "outputs": [
    {
     "data": {
      "text/plain": [
       "'$\\\\mu\\\\left(x,y\\\\right) = x + y$'"
      ]
     },
     "metadata": {},
     "output_type": "display_data"
    },
    {
     "data": {
      "text/latex": [
       "$$\\mu\\left(x,y\\right) = x + y$$"
      ],
      "text/plain": [
       "<IPython.core.display.Math object>"
      ]
     },
     "execution_count": 84,
     "metadata": {},
     "output_type": "execute_result"
    }
   ],
   "source": [
    "mu = Named_Function_from_Expression(r'\\mu', (x,y), x+y)\n",
    "display(mu.displ())\n",
    "Math(mu.displ())"
   ]
  },
  {
   "cell_type": "markdown",
   "metadata": {},
   "source": [
    "Evaluation of a function works the expected way:"
   ]
  },
  {
   "cell_type": "code",
   "execution_count": 85,
   "metadata": {},
   "outputs": [
    {
     "data": {
      "image/png": "[encoded data removed]",
      "text/latex": [
       "$$\\frac{x}{y} + \\frac{y}{x}$$"
      ],
      "text/plain": [
       "x   y\n",
       "─ + ─\n",
       "y   x"
      ]
     },
     "metadata": {},
     "output_type": "display_data"
    },
    {
     "data": {
      "text/latex": [
       "$$\\mu\\left(\\frac{x}{y},\\frac{y}{x}\\right) = \\frac{x}{y} + \\frac{y}{x}$$"
      ],
      "text/plain": [
       "<IPython.core.display.Math object>"
      ]
     },
     "execution_count": 85,
     "metadata": {},
     "output_type": "execute_result"
    }
   ],
   "source": [
    "display(mu(x/y,y/x))\n",
    "Math(mu.displ(x/y,y/x))"
   ]
  },
  {
   "cell_type": "code",
   "execution_count": 86,
   "metadata": {},
   "outputs": [
    {
     "name": "stdout",
     "output_type": "stream",
     "text": [
      "Error: Lambda((x, y), x + y) takes exactly 2 arguments (1 given)\n"
     ]
    }
   ],
   "source": [
    "try:\n",
    "    mu(1)\n",
    "except TypeError as e:\n",
    "    print(\"Error: \" + str(e))"
   ]
  },
  {
   "cell_type": "code",
   "execution_count": 87,
   "metadata": {},
   "outputs": [
    {
     "name": "stdout",
     "output_type": "stream",
     "text": [
      "Error: Lambda((x, y), x + y) takes exactly 2 arguments (1 given)\n"
     ]
    }
   ],
   "source": [
    "try:\n",
    "    mu.displ(1)\n",
    "except TypeError as e:\n",
    "    print(\"Error: \" + str(e))"
   ]
  },
  {
   "cell_type": "code",
   "execution_count": 88,
   "metadata": {},
   "outputs": [
    {
     "name": "stdout",
     "output_type": "stream",
     "text": [
      "Error: Lambda((x, y), x + y) takes exactly 2 arguments (3 given)\n"
     ]
    }
   ],
   "source": [
    "try:\n",
    "    mu.displ(1,2,3)\n",
    "except TypeError as e:\n",
    "    print(\"Error: \" + str(e))"
   ]
  },
  {
   "cell_type": "code",
   "execution_count": 89,
   "metadata": {},
   "outputs": [
    {
     "name": "stdout",
     "output_type": "stream",
     "text": [
      "Error: Lambda((x, y), x + y) takes exactly 2 arguments (3 given)\n"
     ]
    }
   ],
   "source": [
    "try:\n",
    "    mu.displ(1,2,3)\n",
    "except TypeError as e:\n",
    "    print(\"Error: \" + str(e))"
   ]
  }
 ],
 "metadata": {
  "kernelspec": {
   "display_name": "Python 3",
   "language": "python",
   "name": "python3"
  },
  "language_info": {
   "codemirror_mode": {
    "name": "ipython",
    "version": 3
   },
   "file_extension": ".py",
   "mimetype": "text/x-python",
   "name": "python",
   "nbconvert_exporter": "python",
   "pygments_lexer": "ipython3",
   "version": "3.6.3"
  }
 },
 "nbformat": 4,
 "nbformat_minor": 2
}

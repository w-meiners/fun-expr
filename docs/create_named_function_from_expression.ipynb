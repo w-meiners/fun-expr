{
 "cells": [
  {
   "cell_type": "markdown",
   "metadata": {},
   "source": [
    "# Create named function from an expression"
   ]
  },
  {
   "cell_type": "markdown",
   "metadata": {},
   "source": [
    "This is not implemented inside `fun_expr`. Sometimes it is useful to have named functions that know about their name and can use this"
   ]
  },
  {
   "cell_type": "markdown",
   "metadata": {},
   "source": [
    "Initialisations:"
   ]
  },
  {
   "cell_type": "code",
   "execution_count": 1,
   "metadata": {},
   "outputs": [],
   "source": [
    "from sympy import *\n",
    "init_printing()\n",
    "\n",
    "import matplotlib.pyplot as plt\n",
    "%matplotlib inline\n",
    "%config InlineBackend.figure_format='retina'\n",
    "\n",
    "import numpy as np\n",
    "\n",
    "from IPython.display import display, Math, display_latex, Latex\n",
    "\n",
    "from fun_expr import Function_from_Expression as FE"
   ]
  },
  {
   "cell_type": "markdown",
   "metadata": {},
   "source": [
    "To create named functions, subclass FE:"
   ]
  },
  {
   "cell_type": "code",
   "execution_count": 2,
   "metadata": {},
   "outputs": [],
   "source": [
    "class Named_Function_from_Expression(FE):\n",
    "    \"\"\"\n",
    "    Create a named function from an expression.\n",
    "    \n",
    "    Example fo use:\n",
    "    >>> from sympy import *\n",
    "    >>> from fun_expr import (\n",
    "            Function_from_Expression as FE,\n",
    "            Named_Function_from_Expression as NFE,\n",
    "            )\n",
    "    >>> f = NFE(\"f\", x, x**2)\n",
    "    >>> f.displ()\n",
    "    '$f(x) = x^{2}$'\n",
    "    >>> f_1 = f.diff(x,name=\"f'\")\n",
    "    >>> f_1.displ()\n",
    "    \"$f'(x) = 2 x$\"\n",
    "    >>> f_1 = f.diff(x)\n",
    "    '((x) \\mapsto 2\\,x)'\n",
    "    >>> print(type(f_1))\n",
    "    fun_expr.function_from_expression.Function_from_Expression\n",
    "    >>> f.displ(2)\n",
    "    '$f(2) = 4$'\n",
    "    \"\"\"\n",
    "    \n",
    "    def __new__(cls, name, variables, expr):\n",
    "        obj = FE.__new__(cls, variables, expr)\n",
    "        obj.name = name\n",
    "        return obj\n",
    "    \n",
    "    def displ(self, *values, par=\"$\", n=False, simplify=False):\n",
    "        \"\"\"\n",
    "        This is a convenience function to display the equation \n",
    "        \n",
    "          $$f(*values) = expr.subs(variables,values)$$ \n",
    "        \n",
    "        in latex-notation. For inline display use par='$'.\n",
    "        \n",
    "        If val is None: display $$f(var) = expr$$ instead.\n",
    "        \n",
    "        If n ist True, replace the rhs by rhs.n().\n",
    "        If n is an integer number replace the rhs by rhs.n(n).\n",
    "        \n",
    "        If simplify is true, simplify rhs of the equation.\n",
    "        \n",
    "        Here rhs always is the right hand side of the equation.\n",
    "        \"\"\"\n",
    "        \n",
    "        if values and not len(values) == len(self.variables):\n",
    "            raise ValueError('Exactly {l} arguments needet. Given arguments: {v}'.\\\n",
    "                             format(l=len(self.variables),v=values))\n",
    "        vals = values if values else self.variables\n",
    "        rhs = self.expr.subs(zip(self.variables, vals))\n",
    "        if n is not None:\n",
    "            if isinstance(n, bool):\n",
    "                if n:\n",
    "                    rhs = rhs.n()\n",
    "            else:\n",
    "                rhs = rhs.n(n)\n",
    "            \n",
    "        if simplify:\n",
    "            rhs = rhs.simplify()\n",
    "            \n",
    "        ret_val = \"$\" + self.name\n",
    "        ret_val += \"({vars}) = \".format(vars=','.join(latex(v) for v in vals))\n",
    "        ret_val += latex(rhs) + \"$\"\n",
    "        return ret_val\n",
    "    \n",
    "    def diff(self, *symbols, **assumptions):\n",
    "        name = assumptions.pop('name',None)\n",
    "        as_function = assumptions.pop('as_function', True)\n",
    "        res = super().diff(*symbols, as_function=as_function, **assumptions)\n",
    "        if name is not None:\n",
    "            return Named_Function_from_Expression(name, res.variables, res.expr)\n",
    "        else:\n",
    "            return res\n",
    "        \n",
    "    def integrate(self, *args, **kwargs):\n",
    "        name = kwargs.pop('name',None)\n",
    "        as_function = kwargs.pop('as_function', name is not None)\n",
    "        res = super().integrate(*args, as_function=as_function, **kwargs)\n",
    "        if name is not None:\n",
    "            return Named_Function_from_Expression(name, res.variables, res.expr)\n",
    "        else:\n",
    "            return res"
   ]
  },
  {
   "cell_type": "code",
   "execution_count": 3,
   "metadata": {},
   "outputs": [
    {
     "data": {
      "text/plain": [
       "'$f(x) = x^{2}$'"
      ]
     },
     "execution_count": 3,
     "metadata": {},
     "output_type": "execute_result"
    }
   ],
   "source": [
    "x = Symbol('x')\n",
    "f = Named_Function_from_Expression(\"f\",x,x**2)\n",
    "f.displ()"
   ]
  },
  {
   "cell_type": "code",
   "execution_count": 4,
   "metadata": {},
   "outputs": [
    {
     "data": {
      "text/latex": [
       "$$f(x) = x^{2}$$"
      ],
      "text/plain": [
       "<IPython.core.display.Math object>"
      ]
     },
     "execution_count": 4,
     "metadata": {},
     "output_type": "execute_result"
    }
   ],
   "source": [
    "# to have nice output:\n",
    "Math(f.displ())"
   ]
  },
  {
   "cell_type": "code",
   "execution_count": 5,
   "metadata": {},
   "outputs": [
    {
     "data": {
      "text/plain": [
       "'$f(2) = 4$'"
      ]
     },
     "metadata": {},
     "output_type": "display_data"
    },
    {
     "data": {
      "text/latex": [
       "$$f(2) = 4$$"
      ],
      "text/plain": [
       "<IPython.core.display.Math object>"
      ]
     },
     "metadata": {},
     "output_type": "display_data"
    }
   ],
   "source": [
    "display(f.displ(2))\n",
    "display(Math(f.displ(2)))"
   ]
  },
  {
   "cell_type": "code",
   "execution_count": 6,
   "metadata": {},
   "outputs": [
    {
     "data": {
      "text/plain": [
       "\"$f'(x) = 2 x$\""
      ]
     },
     "metadata": {},
     "output_type": "display_data"
    },
    {
     "data": {
      "text/latex": [
       "$$f'(x) = 2 x$$"
      ],
      "text/plain": [
       "<IPython.core.display.Math object>"
      ]
     },
     "metadata": {},
     "output_type": "display_data"
    }
   ],
   "source": [
    "f_1 = f.diff(x,name=\"f'\")\n",
    "display(f_1.displ())\n",
    "display(Math(f_1.displ()))"
   ]
  },
  {
   "cell_type": "markdown",
   "metadata": {},
   "source": [
    "If no name is specified for `f.diff(x)`, a function of class `FE` is returned:"
   ]
  },
  {
   "cell_type": "code",
   "execution_count": 7,
   "metadata": {},
   "outputs": [
    {
     "data": {
      "image/png": "[encoded data removed]",
      "text/latex": [
       "$$\\left( x \\mapsto 2 x \\right)$$"
      ],
      "text/plain": [
       "x ↦ 2⋅x"
      ]
     },
     "metadata": {},
     "output_type": "display_data"
    },
    {
     "data": {
      "text/plain": [
       "fun_expr.function_from_expression.Function_from_Expression"
      ]
     },
     "metadata": {},
     "output_type": "display_data"
    },
    {
     "name": "stdout",
     "output_type": "stream",
     "text": [
      "Lambda(x, 2*x)\n"
     ]
    }
   ],
   "source": [
    "f_1 = f.diff(x)\n",
    "display(f_1)\n",
    "display(type(f_1))\n",
    "print(f_1)"
   ]
  },
  {
   "cell_type": "code",
   "execution_count": 8,
   "metadata": {},
   "outputs": [
    {
     "data": {
      "image/png": "[encoded data removed]",
      "text/latex": [
       "$$\\left( x \\mapsto a x^{2} \\right)$$"
      ],
      "text/plain": [
       "       2\n",
       "x ↦ a⋅x "
      ]
     },
     "metadata": {},
     "output_type": "display_data"
    },
    {
     "data": {
      "text/latex": [
       "$$g(x) = a x^{2}$$"
      ],
      "text/plain": [
       "<IPython.core.display.Math object>"
      ]
     },
     "metadata": {},
     "output_type": "display_data"
    }
   ],
   "source": [
    "a,x = symbols('a,x')\n",
    "g = Named_Function_from_Expression('g', x, a*x**2)\n",
    "display(g)\n",
    "display(Math(g.displ()))"
   ]
  },
  {
   "cell_type": "code",
   "execution_count": 9,
   "metadata": {},
   "outputs": [
    {
     "data": {
      "text/latex": [
       "$$g(1) = a$$"
      ],
      "text/plain": [
       "<IPython.core.display.Math object>"
      ]
     },
     "execution_count": 9,
     "metadata": {},
     "output_type": "execute_result"
    }
   ],
   "source": [
    "Math(g.displ(1))"
   ]
  },
  {
   "cell_type": "code",
   "execution_count": 10,
   "metadata": {},
   "outputs": [
    {
     "data": {
      "text/latex": [
       "$$g(a) = a^{3}$$"
      ],
      "text/plain": [
       "<IPython.core.display.Math object>"
      ]
     },
     "execution_count": 10,
     "metadata": {},
     "output_type": "execute_result"
    }
   ],
   "source": [
    "Math(g.displ(a))"
   ]
  },
  {
   "cell_type": "code",
   "execution_count": 11,
   "metadata": {},
   "outputs": [
    {
     "data": {
      "image/png": "[encoded data removed]",
      "text/latex": [
       "$$\\left( x \\mapsto 2 a x \\right)$$"
      ],
      "text/plain": [
       "x ↦ 2⋅a⋅x"
      ]
     },
     "metadata": {},
     "output_type": "display_data"
    },
    {
     "data": {
      "text/plain": [
       "fun_expr.function_from_expression.Function_from_Expression"
      ]
     },
     "metadata": {},
     "output_type": "display_data"
    }
   ],
   "source": [
    "display(g.diff(x))\n",
    "display(type(g.diff(x)))"
   ]
  },
  {
   "cell_type": "code",
   "execution_count": 12,
   "metadata": {},
   "outputs": [
    {
     "data": {
      "text/latex": [
       "$$g'(x) = 2 a x$$"
      ],
      "text/plain": [
       "<IPython.core.display.Math object>"
      ]
     },
     "metadata": {},
     "output_type": "display_data"
    },
    {
     "data": {
      "text/plain": [
       "__main__.Named_Function_from_Expression"
      ]
     },
     "metadata": {},
     "output_type": "display_data"
    }
   ],
   "source": [
    "display(Math(g.diff(x,name=\"g'\").displ()))\n",
    "display(type(g.diff(x,name=\"g'\")))"
   ]
  },
  {
   "cell_type": "markdown",
   "metadata": {},
   "source": [
    "Integration leads to an expression, not to a function:"
   ]
  },
  {
   "cell_type": "code",
   "execution_count": 13,
   "metadata": {},
   "outputs": [
    {
     "data": {
      "image/png": "[encoded data removed]",
      "text/latex": [
       "$$\\frac{a x^{3}}{3}$$"
      ],
      "text/plain": [
       "   3\n",
       "a⋅x \n",
       "────\n",
       " 3  "
      ]
     },
     "execution_count": 13,
     "metadata": {},
     "output_type": "execute_result"
    }
   ],
   "source": [
    "g_0 = g.integrate(x)\n",
    "g_0"
   ]
  },
  {
   "cell_type": "markdown",
   "metadata": {},
   "source": [
    "If `as_function=True` is set, the result is of type `FE`:"
   ]
  },
  {
   "cell_type": "code",
   "execution_count": 14,
   "metadata": {},
   "outputs": [
    {
     "data": {
      "image/png": "[encoded data removed]",
      "text/latex": [
       "$$\\left( x \\mapsto \\frac{a x^{3}}{3} \\right)$$"
      ],
      "text/plain": [
       "       3\n",
       "    a⋅x \n",
       "x ↦ ────\n",
       "     3  "
      ]
     },
     "metadata": {},
     "output_type": "display_data"
    },
    {
     "data": {
      "text/plain": [
       "fun_expr.function_from_expression.Function_from_Expression"
      ]
     },
     "metadata": {},
     "output_type": "display_data"
    }
   ],
   "source": [
    "g_0 = g.integrate(x,as_function=True)\n",
    "display(g_0)\n",
    "display(type(g_0))"
   ]
  },
  {
   "cell_type": "markdown",
   "metadata": {},
   "source": [
    "If `as_function=True` is set and an name is specified, the result is of type `Named_Function_from_Expression`:"
   ]
  },
  {
   "cell_type": "code",
   "execution_count": 15,
   "metadata": {},
   "outputs": [
    {
     "data": {
      "text/latex": [
       "$$g_0(x) = \\frac{a x^{3}}{3}$$"
      ],
      "text/plain": [
       "<IPython.core.display.Math object>"
      ]
     },
     "metadata": {},
     "output_type": "display_data"
    },
    {
     "data": {
      "text/plain": [
       "__main__.Named_Function_from_Expression"
      ]
     },
     "metadata": {},
     "output_type": "display_data"
    }
   ],
   "source": [
    "g_0 = g.integrate(x,name=\"g_0\")\n",
    "display(Math(g_0.displ()))\n",
    "display(type(g_0))"
   ]
  },
  {
   "cell_type": "code",
   "execution_count": 16,
   "metadata": {},
   "outputs": [
    {
     "data": {
      "text/latex": [
       "$$g_0(3) = 9 a$$"
      ],
      "text/plain": [
       "<IPython.core.display.Math object>"
      ]
     },
     "execution_count": 16,
     "metadata": {},
     "output_type": "execute_result"
    }
   ],
   "source": [
    "Math(g_0.displ(3))"
   ]
  },
  {
   "cell_type": "markdown",
   "metadata": {},
   "source": [
    "Named functions of more then one variable are possible, too."
   ]
  },
  {
   "cell_type": "code",
   "execution_count": 17,
   "metadata": {},
   "outputs": [
    {
     "data": {
      "text/latex": [
       "$$h(x,y,z) = a x y z$$"
      ],
      "text/plain": [
       "<IPython.core.display.Math object>"
      ]
     },
     "execution_count": 17,
     "metadata": {},
     "output_type": "execute_result"
    }
   ],
   "source": [
    "x,y,z = symbols('x,y,z')\n",
    "\n",
    "h = Named_Function_from_Expression('h',(x,y,z), a*x*y*z)\n",
    "Math(h.displ())"
   ]
  },
  {
   "cell_type": "code",
   "execution_count": 18,
   "metadata": {},
   "outputs": [
    {
     "data": {
      "text/latex": [
       "$$\\frac{\\partial}{\\partial z}\\,h(x,y,z) = a x y$$"
      ],
      "text/plain": [
       "<IPython.core.display.Math object>"
      ]
     },
     "execution_count": 18,
     "metadata": {},
     "output_type": "execute_result"
    }
   ],
   "source": [
    "Math(h.diff(z,name=r\"\\frac{\\partial}{\\partial z}\\,h\").displ(simplify=True))"
   ]
  }
 ],
 "metadata": {
  "kernelspec": {
   "display_name": "Python 3",
   "language": "python",
   "name": "python3"
  },
  "language_info": {
   "codemirror_mode": {
    "name": "ipython",
    "version": 3
   },
   "file_extension": ".py",
   "mimetype": "text/x-python",
   "name": "python",
   "nbconvert_exporter": "python",
   "pygments_lexer": "ipython3",
   "version": "3.6.3"
  }
 },
 "nbformat": 4,
 "nbformat_minor": 2
}

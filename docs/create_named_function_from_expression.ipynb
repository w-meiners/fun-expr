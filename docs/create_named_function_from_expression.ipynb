{
 "cells": [
  {
   "cell_type": "markdown",
   "metadata": {},
   "source": [
    "# Create named function from an expression"
   ]
  },
  {
   "cell_type": "markdown",
   "metadata": {},
   "source": [
    "This is not implemented inside `fun_expr`. Sometimes it is useful to have named functions that know about their name and can use this"
   ]
  },
  {
   "cell_type": "markdown",
   "metadata": {},
   "source": [
    "Initialisations:"
   ]
  },
  {
   "cell_type": "code",
   "execution_count": 1,
   "metadata": {},
   "outputs": [],
   "source": [
    "from sympy import *\n",
    "init_printing()\n",
    "\n",
    "import matplotlib.pyplot as plt\n",
    "%matplotlib inline\n",
    "%config InlineBackend.figure_format='retina'\n",
    "\n",
    "import numpy as np\n",
    "\n",
    "from IPython.display import display, Math, display_latex, Latex\n",
    "\n",
    "from fun_expr import Function_from_Expression as FE, Named_Function_from_Expression as NFE"
   ]
  },
  {
   "cell_type": "markdown",
   "metadata": {},
   "source": [
    "To create named functions, subclass FE:"
   ]
  },
  {
   "cell_type": "code",
   "execution_count": 262,
   "metadata": {},
   "outputs": [],
   "source": [
    "class Named_Function_from_Expression(FE):\n",
    "    \"\"\"\n",
    "    Create a named function from an expression.\n",
    "    \n",
    "    Example fo use:\n",
    "    >>> from sympy import *\n",
    "    >>> from fun_expr import (\n",
    "            Function_from_Expression as FE,\n",
    "            Named_Function_from_Expression as NFE,\n",
    "            )\n",
    "    >>> f = NFE(\"f\", x, x**2)\n",
    "    >>> f.displ()\n",
    "    '$f(x) = x^{2}$'\n",
    "    >>> f_1 = f.diff(x,name=\"f'\")\n",
    "    >>> f_1.displ()\n",
    "    \"$f'(x) = 2 x$\"\n",
    "    >>> f_1 = f.diff(x)\n",
    "    '((x) \\mapsto 2\\,x)'\n",
    "    >>> print(type(f_1))\n",
    "    fun_expr.function_from_expression.Function_from_Expression\n",
    "    >>> f.displ(2)\n",
    "    '$f(2) = 4$'\n",
    "    \"\"\"\n",
    "    \n",
    "    def __new__(cls, name, variables, expr):\n",
    "        obj = FE.__new__(cls, variables, expr)\n",
    "        obj.name = name\n",
    "        return obj\n",
    "    \n",
    "    def displ(self, *values, par=\"$\", n=False, simplify=False, **kwargs):\n",
    "        \"\"\"\n",
    "        This is a convenience function to display the equation \n",
    "        \n",
    "          $f(x_1,x_2,...) = rhs$\n",
    "          or \n",
    "          $$f(x_1,x_2,...) = rhs$$ # if par='$$'\n",
    "          \n",
    "        in latex-notation. \n",
    "\n",
    "        If values == (): replace rhs by self.expr\n",
    "        instead. If values are specified, exactly one \n",
    "        value for every variable of this function is \n",
    "        expected.\n",
    "        \n",
    "        If n ist True, replace the rhs by rhs.n().\n",
    "        If n is an integer number replace the rhs by rhs.n(n).\n",
    "        \n",
    "        If simplify is true, simplify rhs.\n",
    "        \n",
    "        Here rhs always is the right hand side of the equation.\n",
    "        \"\"\"\n",
    "        \n",
    "        # there are exactly two possibilities:\n",
    "        #    either there is no value at all, values == ()\n",
    "        #    or there are exactly len(self.variables) values.\n",
    "        #    if there are no values, set rhs to self.expr\n",
    "        #    else calculate rhs = f(*values)\n",
    "        if values is not ():\n",
    "            vals = values \n",
    "            rhs = super().__call__(*values, **kwargs) \n",
    "        else:\n",
    "            vals = self.variables\n",
    "            rhs = self.expr\n",
    "        \n",
    "        # n can be None, bool or int.\n",
    "        # if n is None do nothing\n",
    "        # if n is bool and n is True, replace rhs by rhs.n()\n",
    "        # if n is bool and n is False, do nothing\n",
    "        # if n is int replace rhs by rhs.n(n)\n",
    "        if n is not None:\n",
    "            if isinstance(n, bool):\n",
    "                if n:\n",
    "                    rhs = rhs.n()\n",
    "            else:\n",
    "                rhs = rhs.n(n)\n",
    "        \n",
    "        # simplify can be True or False\n",
    "        # if simplfiy ist True, the rhs is simplified\n",
    "        if simplify:\n",
    "            rhs = rhs.simplify()\n",
    "        \n",
    "        # create output as \n",
    "        #    f(x_1,x_2,...) = rhs\n",
    "        # in latex notation\n",
    "        ret_val = par \n",
    "        ret_val += latex(self.name)\n",
    "        ret_val += r\"\\left({vars}\\right) = \".format(vars=','.join(latex(v) for v in vals))\n",
    "        ret_val += latex(rhs) \n",
    "        ret_val += par\n",
    "        return ret_val\n",
    "    \n",
    "    def diff(self, *symbols, **assumptions):\n",
    "        \"\"\"\n",
    "        If a name is specified, as_function is set to True.\n",
    "        In this case, a Named_Function_of_Expression is retured.\n",
    "        If no name is specified, the result depends on as_function\n",
    "        \"\"\"\n",
    "        name = assumptions.pop('name',None)\n",
    "        as_function = assumptions.pop('as_function', True) or name is not None \n",
    "        # let my parent do the hard part \n",
    "        res = super().diff(*symbols, as_function=as_function, **assumptions)\n",
    "        if name is not None:\n",
    "            return Named_Function_from_Expression(name, res.variables, res.expr)\n",
    "        else:\n",
    "            return res\n",
    "        \n",
    "    def integrate(self, *args, **kwargs):\n",
    "        \"\"\"\n",
    "        If a name is specified, as_function is set to True.\n",
    "        In this case, a Named_Function_of_Expression is returned.\n",
    "        If no name is specified, the result depends on as_function\n",
    "        \"\"\"\n",
    "        name = kwargs.pop('name',None)\n",
    "        as_function = kwargs.pop('as_function', False) or name is not None\n",
    "        # let my parent do the hard part\n",
    "        res = super().integrate(*args, as_function=as_function, **kwargs)\n",
    "        if name is not None:\n",
    "            return Named_Function_from_Expression(name, res.variables, res.expr)\n",
    "        else:\n",
    "            return res\n",
    "    \n",
    "    def subs(self, *args, **kwargs):\n",
    "        obj = Named_Function_from_Expression(self.name, self.variables, self.expr.subs(*args, **kwargs))\n",
    "        if False in [u==v for u,v in zip(self.variables,obj.variables)]:\n",
    "            raise ValueError(\n",
    "                    \"Substitution of variables is not valid: {}\".format(arg) \n",
    "                    )\n",
    "        return obj"
   ]
  },
  {
   "cell_type": "code",
   "execution_count": 263,
   "metadata": {},
   "outputs": [
    {
     "data": {
      "text/latex": [
       "$$f\\left(x\\right) = a x^{2}$$"
      ],
      "text/plain": [
       "<IPython.core.display.Math object>"
      ]
     },
     "execution_count": 263,
     "metadata": {},
     "output_type": "execute_result"
    }
   ],
   "source": [
    "a,x = symbols('a,x')\n",
    "f = Named_Function_from_Expression('f', x, a*x**2)\n",
    "Math(f.displ())\n",
    "#f = FE(x,a*x**2)"
   ]
  },
  {
   "cell_type": "code",
   "execution_count": 265,
   "metadata": {},
   "outputs": [
    {
     "data": {
      "image/png": "[encoded data removed]",
      "text/latex": [
       "$$\\left( x \\mapsto a \\right)$$"
      ],
      "text/plain": [
       "x ↦ a"
      ]
     },
     "metadata": {},
     "output_type": "display_data"
    },
    {
     "data": {
      "text/plain": [
       "__main__.Named_Function_from_Expression"
      ]
     },
     "metadata": {},
     "output_type": "display_data"
    }
   ],
   "source": [
    "display(f.subs(x,1))\n",
    "display(type(f))"
   ]
  },
  {
   "cell_type": "code",
   "execution_count": 267,
   "metadata": {},
   "outputs": [
    {
     "data": {
      "image/png": "[encoded data removed]",
      "text/latex": [
       "$$\\left( \\left ( a, \\quad x\\right ) \\mapsto a x^{2} \\right)$$"
      ],
      "text/plain": [
       "            2\n",
       "(a, x) ↦ a⋅x "
      ]
     },
     "execution_count": 267,
     "metadata": {},
     "output_type": "execute_result"
    }
   ],
   "source": [
    "f = Named_Function_from_Expression('f',(a,x),a*x**2)\n",
    "f"
   ]
  },
  {
   "cell_type": "code",
   "execution_count": 268,
   "metadata": {},
   "outputs": [
    {
     "data": {
      "image/png": "[encoded data removed]",
      "text/latex": [
       "$$\\left( \\left ( a, \\quad x\\right ) \\mapsto x^{3} \\right)$$"
      ],
      "text/plain": [
       "          3\n",
       "(a, x) ↦ x "
      ]
     },
     "execution_count": 268,
     "metadata": {},
     "output_type": "execute_result"
    }
   ],
   "source": [
    "f.subs(a,x)"
   ]
  },
  {
   "cell_type": "code",
   "execution_count": 269,
   "metadata": {},
   "outputs": [
    {
     "data": {
      "image/png": "[encoded data removed]",
      "text/latex": [
       "$$\\left( \\left ( a, \\quad x\\right ) \\mapsto a x^{2} \\right)$$"
      ],
      "text/plain": [
       "            2\n",
       "(a, x) ↦ a⋅x "
      ]
     },
     "execution_count": 269,
     "metadata": {},
     "output_type": "execute_result"
    }
   ],
   "source": [
    "f = Lambda((a,x), a*x**2)\n",
    "f"
   ]
  },
  {
   "cell_type": "code",
   "execution_count": 270,
   "metadata": {},
   "outputs": [
    {
     "data": {
      "image/png": "[encoded data removed]",
      "text/latex": [
       "$$\\left( \\left ( x, \\quad x\\right ) \\mapsto x^{3} \\right)$$"
      ],
      "text/plain": [
       "          3\n",
       "(x, x) ↦ x "
      ]
     },
     "execution_count": 270,
     "metadata": {},
     "output_type": "execute_result"
    }
   ],
   "source": [
    "f.subs(a,x)"
   ]
  },
  {
   "cell_type": "code",
   "execution_count": 271,
   "metadata": {},
   "outputs": [
    {
     "data": {
      "image/png": "[encoded data removed]",
      "text/latex": [
       "$$\\left( \\left ( a_{0}, \\quad x\\right ) \\mapsto a_{0} x^{2} \\right)$$"
      ],
      "text/plain": [
       "              2\n",
       "(a₀, x) ↦ a₀⋅x "
      ]
     },
     "execution_count": 271,
     "metadata": {},
     "output_type": "execute_result"
    }
   ],
   "source": [
    "a_0 = Symbol('a_0')\n",
    "f.subs(a,a_0)"
   ]
  },
  {
   "cell_type": "code",
   "execution_count": 272,
   "metadata": {},
   "outputs": [
    {
     "data": {
      "text/latex": [
       "$$f\\left(a,x\\right) = a x$$"
      ],
      "text/plain": [
       "<IPython.core.display.Math object>"
      ]
     },
     "execution_count": 272,
     "metadata": {},
     "output_type": "execute_result"
    }
   ],
   "source": [
    "f = Named_Function_from_Expression('f', (a,x), a*x)\n",
    "Math(f.displ())"
   ]
  },
  {
   "cell_type": "code",
   "execution_count": 273,
   "metadata": {},
   "outputs": [
    {
     "data": {
      "image/png": "[encoded data removed]",
      "text/latex": [
       "$$\\left( \\left ( a, \\quad x\\right ) \\mapsto a_{0} x \\right)$$"
      ],
      "text/plain": [
       "(a, x) ↦ a₀⋅x"
      ]
     },
     "execution_count": 273,
     "metadata": {},
     "output_type": "execute_result"
    }
   ],
   "source": [
    "f.subs(a,a_0)"
   ]
  },
  {
   "cell_type": "code",
   "execution_count": 274,
   "metadata": {},
   "outputs": [],
   "source": [
    "class A():\n",
    "    name = 'A'\n",
    "    \n",
    "    def ret_name(self):\n",
    "        return (A.name, self.name)\n",
    "    \n",
    "class B(A):\n",
    "    name = 'B'\n",
    "    \n",
    "    def ret_name_too(self):\n",
    "        return super().ret_name()\n",
    "    "
   ]
  },
  {
   "cell_type": "code",
   "execution_count": 275,
   "metadata": {},
   "outputs": [
    {
     "name": "stdout",
     "output_type": "stream",
     "text": [
      "('A', 'B')\n"
     ]
    },
    {
     "data": {
      "text/plain": [
       "('A', 'B')"
      ]
     },
     "execution_count": 275,
     "metadata": {},
     "output_type": "execute_result"
    }
   ],
   "source": [
    "b = B()\n",
    "print(b.ret_name())\n",
    "b.ret_name_too()"
   ]
  },
  {
   "cell_type": "code",
   "execution_count": 277,
   "metadata": {},
   "outputs": [
    {
     "name": "stdout",
     "output_type": "stream",
     "text": [
      "('A', 'A')\n"
     ]
    }
   ],
   "source": [
    "a = A()\n",
    "print(a.ret_name())"
   ]
  },
  {
   "cell_type": "code",
   "execution_count": 111,
   "metadata": {},
   "outputs": [
    {
     "data": {
      "image/png": "[encoded data removed]",
      "text/latex": [
       "$$\\left( x \\mapsto a x^{2} \\right)$$"
      ],
      "text/plain": [
       "       2\n",
       "x ↦ a⋅x "
      ]
     },
     "execution_count": 111,
     "metadata": {},
     "output_type": "execute_result"
    }
   ],
   "source": [
    "a,x = symbols('a,x')\n",
    "g = Lambda(x,a*x**2)\n",
    "g"
   ]
  },
  {
   "cell_type": "code",
   "execution_count": 112,
   "metadata": {},
   "outputs": [
    {
     "data": {
      "image/png": "[encoded data removed]",
      "text/latex": [
       "$$\\left( x \\mapsto x^{2} \\right)$$"
      ],
      "text/plain": [
       "     2\n",
       "x ↦ x "
      ]
     },
     "execution_count": 112,
     "metadata": {},
     "output_type": "execute_result"
    }
   ],
   "source": [
    "g.subs(a,1)"
   ]
  },
  {
   "cell_type": "code",
   "execution_count": 179,
   "metadata": {},
   "outputs": [
    {
     "data": {
      "image/png": "[encoded data removed]",
      "text/latex": [
       "$$\\left( x \\mapsto x^{2} \\right)$$"
      ],
      "text/plain": [
       "     2\n",
       "x ↦ x "
      ]
     },
     "execution_count": 179,
     "metadata": {},
     "output_type": "execute_result"
    }
   ],
   "source": [
    "g.subs(a,1)"
   ]
  },
  {
   "cell_type": "code",
   "execution_count": 180,
   "metadata": {},
   "outputs": [
    {
     "data": {
      "text/plain": [
       "'$f\\\\left(x\\\\right) = a x^{2}$'"
      ]
     },
     "execution_count": 180,
     "metadata": {},
     "output_type": "execute_result"
    }
   ],
   "source": [
    "f = NFE('f', x, a*x**2)\n",
    "f.displ()"
   ]
  },
  {
   "cell_type": "code",
   "execution_count": 182,
   "metadata": {},
   "outputs": [
    {
     "ename": "TypeError",
     "evalue": "__new__() missing 1 required positional argument: 'expr'",
     "output_type": "error",
     "traceback": [
      "\u001b[0;31m---------------------------------------------------------------------------\u001b[0m",
      "\u001b[0;31mTypeError\u001b[0m                                 Traceback (most recent call last)",
      "\u001b[0;32m<ipython-input-182-75a446f2a5c9>\u001b[0m in \u001b[0;36m<module>\u001b[0;34m()\u001b[0m\n\u001b[0;32m----> 1\u001b[0;31m \u001b[0mf\u001b[0m\u001b[0;34m.\u001b[0m\u001b[0msubs\u001b[0m\u001b[0;34m(\u001b[0m\u001b[0;34m{\u001b[0m\u001b[0ma\u001b[0m\u001b[0;34m:\u001b[0m\u001b[0;36m1\u001b[0m\u001b[0;34m}\u001b[0m\u001b[0;34m)\u001b[0m\u001b[0;34m\u001b[0m\u001b[0m\n\u001b[0m",
      "\u001b[0;32m~/anaconda/lib/python3.6/site-packages/fun_expr/function_from_expression.py\u001b[0m in \u001b[0;36msubs\u001b[0;34m(self, *arg, **kwargs)\u001b[0m\n\u001b[1;32m    104\u001b[0m         \u001b[0;34m>>\u001b[0m\u001b[0;34m>\u001b[0m \u001b[0mf\u001b[0m\u001b[0;34m.\u001b[0m\u001b[0msubs\u001b[0m\u001b[0;34m(\u001b[0m\u001b[0mx\u001b[0m\u001b[0;34m,\u001b[0m\u001b[0ma\u001b[0m\u001b[0;34m)\u001b[0m \u001b[0;31m# throws ValueError since x is a variable of f\u001b[0m\u001b[0;34m\u001b[0m\u001b[0m\n\u001b[1;32m    105\u001b[0m         \"\"\"\n\u001b[0;32m--> 106\u001b[0;31m         \u001b[0mobj\u001b[0m \u001b[0;34m=\u001b[0m \u001b[0msuper\u001b[0m\u001b[0;34m(\u001b[0m\u001b[0;34m)\u001b[0m\u001b[0;34m.\u001b[0m\u001b[0msubs\u001b[0m\u001b[0;34m(\u001b[0m\u001b[0;34m*\u001b[0m\u001b[0marg\u001b[0m\u001b[0;34m,\u001b[0m \u001b[0;34m**\u001b[0m\u001b[0mkwargs\u001b[0m\u001b[0;34m)\u001b[0m\u001b[0;34m\u001b[0m\u001b[0m\n\u001b[0m\u001b[1;32m    107\u001b[0m         \u001b[0;32mif\u001b[0m \u001b[0;32mFalse\u001b[0m \u001b[0;32min\u001b[0m \u001b[0;34m[\u001b[0m\u001b[0mu\u001b[0m\u001b[0;34m==\u001b[0m\u001b[0mv\u001b[0m \u001b[0;32mfor\u001b[0m \u001b[0mu\u001b[0m\u001b[0;34m,\u001b[0m\u001b[0mv\u001b[0m \u001b[0;32min\u001b[0m \u001b[0mzip\u001b[0m\u001b[0;34m(\u001b[0m\u001b[0mself\u001b[0m\u001b[0;34m.\u001b[0m\u001b[0mvariables\u001b[0m\u001b[0;34m,\u001b[0m\u001b[0mobj\u001b[0m\u001b[0;34m.\u001b[0m\u001b[0mvariables\u001b[0m\u001b[0;34m)\u001b[0m\u001b[0;34m]\u001b[0m\u001b[0;34m:\u001b[0m\u001b[0;34m\u001b[0m\u001b[0m\n\u001b[1;32m    108\u001b[0m             raise ValueError(\n",
      "\u001b[0;32m~/anaconda/lib/python3.6/site-packages/sympy/core/basic.py\u001b[0m in \u001b[0;36msubs\u001b[0;34m(self, *args, **kwargs)\u001b[0m\n\u001b[1;32m    914\u001b[0m             \u001b[0mrv\u001b[0m \u001b[0;34m=\u001b[0m \u001b[0mself\u001b[0m\u001b[0;34m\u001b[0m\u001b[0m\n\u001b[1;32m    915\u001b[0m             \u001b[0;32mfor\u001b[0m \u001b[0mold\u001b[0m\u001b[0;34m,\u001b[0m \u001b[0mnew\u001b[0m \u001b[0;32min\u001b[0m \u001b[0msequence\u001b[0m\u001b[0;34m:\u001b[0m\u001b[0;34m\u001b[0m\u001b[0m\n\u001b[0;32m--> 916\u001b[0;31m                 \u001b[0mrv\u001b[0m \u001b[0;34m=\u001b[0m \u001b[0mrv\u001b[0m\u001b[0;34m.\u001b[0m\u001b[0m_subs\u001b[0m\u001b[0;34m(\u001b[0m\u001b[0mold\u001b[0m\u001b[0;34m,\u001b[0m \u001b[0mnew\u001b[0m\u001b[0;34m,\u001b[0m \u001b[0;34m**\u001b[0m\u001b[0mkwargs\u001b[0m\u001b[0;34m)\u001b[0m\u001b[0;34m\u001b[0m\u001b[0m\n\u001b[0m\u001b[1;32m    917\u001b[0m                 \u001b[0;32mif\u001b[0m \u001b[0;32mnot\u001b[0m \u001b[0misinstance\u001b[0m\u001b[0;34m(\u001b[0m\u001b[0mrv\u001b[0m\u001b[0;34m,\u001b[0m \u001b[0mBasic\u001b[0m\u001b[0;34m)\u001b[0m\u001b[0;34m:\u001b[0m\u001b[0;34m\u001b[0m\u001b[0m\n\u001b[1;32m    918\u001b[0m                     \u001b[0;32mbreak\u001b[0m\u001b[0;34m\u001b[0m\u001b[0m\n",
      "\u001b[0;32m~/anaconda/lib/python3.6/site-packages/sympy/core/basic.py\u001b[0m in \u001b[0;36m_subs\u001b[0;34m(self, old, new, **hints)\u001b[0m\n\u001b[1;32m   1028\u001b[0m         \u001b[0mrv\u001b[0m \u001b[0;34m=\u001b[0m \u001b[0mself\u001b[0m\u001b[0;34m.\u001b[0m\u001b[0m_eval_subs\u001b[0m\u001b[0;34m(\u001b[0m\u001b[0mold\u001b[0m\u001b[0;34m,\u001b[0m \u001b[0mnew\u001b[0m\u001b[0;34m)\u001b[0m\u001b[0;34m\u001b[0m\u001b[0m\n\u001b[1;32m   1029\u001b[0m         \u001b[0;32mif\u001b[0m \u001b[0mrv\u001b[0m \u001b[0;32mis\u001b[0m \u001b[0;32mNone\u001b[0m\u001b[0;34m:\u001b[0m\u001b[0;34m\u001b[0m\u001b[0m\n\u001b[0;32m-> 1030\u001b[0;31m             \u001b[0mrv\u001b[0m \u001b[0;34m=\u001b[0m \u001b[0mfallback\u001b[0m\u001b[0;34m(\u001b[0m\u001b[0mself\u001b[0m\u001b[0;34m,\u001b[0m \u001b[0mold\u001b[0m\u001b[0;34m,\u001b[0m \u001b[0mnew\u001b[0m\u001b[0;34m)\u001b[0m\u001b[0;34m\u001b[0m\u001b[0m\n\u001b[0m\u001b[1;32m   1031\u001b[0m         \u001b[0;32mreturn\u001b[0m \u001b[0mrv\u001b[0m\u001b[0;34m\u001b[0m\u001b[0m\n\u001b[1;32m   1032\u001b[0m \u001b[0;34m\u001b[0m\u001b[0m\n",
      "\u001b[0;32m~/anaconda/lib/python3.6/site-packages/sympy/core/basic.py\u001b[0m in \u001b[0;36mfallback\u001b[0;34m(self, old, new)\u001b[0m\n\u001b[1;32m   1005\u001b[0m                     \u001b[0margs\u001b[0m\u001b[0;34m[\u001b[0m\u001b[0mi\u001b[0m\u001b[0;34m]\u001b[0m \u001b[0;34m=\u001b[0m \u001b[0marg\u001b[0m\u001b[0;34m\u001b[0m\u001b[0m\n\u001b[1;32m   1006\u001b[0m             \u001b[0;32mif\u001b[0m \u001b[0mhit\u001b[0m\u001b[0;34m:\u001b[0m\u001b[0;34m\u001b[0m\u001b[0m\n\u001b[0;32m-> 1007\u001b[0;31m                 \u001b[0mrv\u001b[0m \u001b[0;34m=\u001b[0m \u001b[0mself\u001b[0m\u001b[0;34m.\u001b[0m\u001b[0mfunc\u001b[0m\u001b[0;34m(\u001b[0m\u001b[0;34m*\u001b[0m\u001b[0margs\u001b[0m\u001b[0;34m)\u001b[0m\u001b[0;34m\u001b[0m\u001b[0m\n\u001b[0m\u001b[1;32m   1008\u001b[0m                 \u001b[0mhack2\u001b[0m \u001b[0;34m=\u001b[0m \u001b[0mhints\u001b[0m\u001b[0;34m.\u001b[0m\u001b[0mget\u001b[0m\u001b[0;34m(\u001b[0m\u001b[0;34m'hack2'\u001b[0m\u001b[0;34m,\u001b[0m \u001b[0;32mFalse\u001b[0m\u001b[0;34m)\u001b[0m\u001b[0;34m\u001b[0m\u001b[0m\n\u001b[1;32m   1009\u001b[0m                 \u001b[0;32mif\u001b[0m \u001b[0mhack2\u001b[0m \u001b[0;32mand\u001b[0m \u001b[0mself\u001b[0m\u001b[0;34m.\u001b[0m\u001b[0mis_Mul\u001b[0m \u001b[0;32mand\u001b[0m \u001b[0;32mnot\u001b[0m \u001b[0mrv\u001b[0m\u001b[0;34m.\u001b[0m\u001b[0mis_Mul\u001b[0m\u001b[0;34m:\u001b[0m  \u001b[0;31m# 2-arg hack\u001b[0m\u001b[0;34m\u001b[0m\u001b[0m\n",
      "\u001b[0;31mTypeError\u001b[0m: __new__() missing 1 required positional argument: 'expr'"
     ]
    }
   ],
   "source": [
    "f.subs({a:1})"
   ]
  },
  {
   "cell_type": "markdown",
   "metadata": {},
   "source": [
    "Create a simple function to test `Named_Function_from_Expression`:"
   ]
  },
  {
   "cell_type": "code",
   "execution_count": null,
   "metadata": {},
   "outputs": [],
   "source": [
    "x = Symbol('x')\n",
    "f = Named_Function_from_Expression(\"f\",x,x**2)\n",
    "f.displ()"
   ]
  },
  {
   "cell_type": "code",
   "execution_count": null,
   "metadata": {},
   "outputs": [],
   "source": [
    "x = Symbol('x')\n",
    "f = NFE('f', x, x**2)\n",
    "display(f.displ())\n",
    "type(f)"
   ]
  },
  {
   "cell_type": "code",
   "execution_count": null,
   "metadata": {},
   "outputs": [],
   "source": [
    "f.displ(par='$$')"
   ]
  },
  {
   "cell_type": "code",
   "execution_count": null,
   "metadata": {},
   "outputs": [],
   "source": [
    "# to have nice output:\n",
    "Math(f.displ())"
   ]
  },
  {
   "cell_type": "code",
   "execution_count": null,
   "metadata": {},
   "outputs": [],
   "source": [
    "display(f.displ(2))\n",
    "Math(f.displ(2))"
   ]
  },
  {
   "cell_type": "markdown",
   "metadata": {},
   "source": [
    "Plot the graph $y=f(x)$ for $-1 \\le x \\le 1$:"
   ]
  },
  {
   "cell_type": "code",
   "execution_count": null,
   "metadata": {},
   "outputs": [],
   "source": [
    "fig, ax = plt.subplots()\n",
    "\n",
    "lx = np.linspace(-1,1)\n",
    "\n",
    "ax.plot(lx,f.lambdified(lx),label=f.displ())\n",
    "ax.axhline(0,c='k')\n",
    "ax.axvline(0,c='k')\n",
    "ax.grid(True)\n",
    "ax.legend(loc='upper center')\n",
    "ax.set_title(\"Graph of the square function {f}\".format(f=f.displ()))"
   ]
  },
  {
   "cell_type": "markdown",
   "metadata": {},
   "source": [
    "Determine the derivative of $f(x)$ as named function:"
   ]
  },
  {
   "cell_type": "code",
   "execution_count": null,
   "metadata": {},
   "outputs": [],
   "source": [
    "f_1 = f.diff(x,name=\"f'\")\n",
    "display(f_1.displ())\n",
    "display(Math(f_1.displ()))\n",
    "display(type(f_1))"
   ]
  },
  {
   "cell_type": "markdown",
   "metadata": {},
   "source": [
    "If no name is specified for `f.diff(x)`, a function of class `FE` is returned:"
   ]
  },
  {
   "cell_type": "code",
   "execution_count": null,
   "metadata": {},
   "outputs": [],
   "source": [
    "f_1 = f.diff(x)\n",
    "display(f_1)\n",
    "display(type(f_1))"
   ]
  },
  {
   "cell_type": "markdown",
   "metadata": {},
   "source": [
    "If no name is specified for `f.diff(x)` and `is_function=False`, an expression is returned:"
   ]
  },
  {
   "cell_type": "code",
   "execution_count": null,
   "metadata": {},
   "outputs": [],
   "source": [
    "expr = f.diff(x,as_function=False)\n",
    "display(expr)\n",
    "type(expr)"
   ]
  },
  {
   "cell_type": "markdown",
   "metadata": {},
   "source": [
    "Integration leads to an expression, not to a function:"
   ]
  },
  {
   "cell_type": "code",
   "execution_count": null,
   "metadata": {},
   "outputs": [],
   "source": [
    "f_0 = f.integrate(x)\n",
    "f_0"
   ]
  },
  {
   "cell_type": "markdown",
   "metadata": {},
   "source": [
    "If `as_function=True` is set, the result is of type `FE`:"
   ]
  },
  {
   "cell_type": "code",
   "execution_count": null,
   "metadata": {},
   "outputs": [],
   "source": [
    "f_0 = f.integrate(x,as_function=True)\n",
    "display(f_0)\n",
    "display(type(f_0))"
   ]
  },
  {
   "cell_type": "markdown",
   "metadata": {},
   "source": [
    "If a name is specified `as_function` is set to `True`, the result is of type `Named_Function_from_Expression`:"
   ]
  },
  {
   "cell_type": "code",
   "execution_count": null,
   "metadata": {},
   "outputs": [],
   "source": [
    "f_0 = f.integrate(x,name=\"f_0\")\n",
    "display(Math(f_0.displ()))\n",
    "display(type(f_0))"
   ]
  },
  {
   "cell_type": "code",
   "execution_count": null,
   "metadata": {},
   "outputs": [],
   "source": [
    "f_0 = f.integrate(x,name='f_0',as_function=False)\n",
    "display(Math(f_0.displ()))\n",
    "type(f_0)"
   ]
  },
  {
   "cell_type": "code",
   "execution_count": null,
   "metadata": {},
   "outputs": [],
   "source": [
    "Math(f_0.displ(3))"
   ]
  },
  {
   "cell_type": "markdown",
   "metadata": {},
   "source": [
    "Named functions of more then one variable are possible, too."
   ]
  },
  {
   "cell_type": "code",
   "execution_count": null,
   "metadata": {},
   "outputs": [],
   "source": [
    "a,x,y,z = symbols('a,x,y,z')\n",
    "\n",
    "g = NFE('g',(x,y,z), a*x*y*z)\n",
    "Math(g.displ())"
   ]
  },
  {
   "cell_type": "code",
   "execution_count": null,
   "metadata": {},
   "outputs": [],
   "source": [
    "Math(g.diff(z,name=r\"\\frac{\\partial}{\\partial z}\\,g\").displ())"
   ]
  },
  {
   "cell_type": "markdown",
   "metadata": {},
   "source": [
    "Names of functions can be latex expressions like `r'\\mu'`:"
   ]
  },
  {
   "cell_type": "code",
   "execution_count": null,
   "metadata": {},
   "outputs": [],
   "source": [
    "mu = NFE(r'\\mu', (x,y), x+y)\n",
    "display(mu.displ())\n",
    "Math(mu.displ())"
   ]
  },
  {
   "cell_type": "markdown",
   "metadata": {},
   "source": [
    "Evaluation of a function works the expected way:"
   ]
  },
  {
   "cell_type": "code",
   "execution_count": null,
   "metadata": {},
   "outputs": [],
   "source": [
    "display(mu(x/y,y/x))\n",
    "Math(mu.displ(x/y,y/x))"
   ]
  },
  {
   "cell_type": "markdown",
   "metadata": {},
   "source": [
    "Evaluation of a function needs exactly one value for every variable:"
   ]
  },
  {
   "cell_type": "code",
   "execution_count": null,
   "metadata": {},
   "outputs": [],
   "source": [
    "try:\n",
    "    mu(1)\n",
    "except TypeError as e:\n",
    "    print(\"Error: \" + str(e))"
   ]
  },
  {
   "cell_type": "code",
   "execution_count": null,
   "metadata": {},
   "outputs": [],
   "source": [
    "try:\n",
    "    mu.displ(1)\n",
    "except TypeError as e:\n",
    "    print(\"Error: \" + str(e))"
   ]
  },
  {
   "cell_type": "code",
   "execution_count": null,
   "metadata": {},
   "outputs": [],
   "source": [
    "try:\n",
    "    mu.displ(1,2,3)\n",
    "except TypeError as e:\n",
    "    print(\"Error: \" + str(e))"
   ]
  },
  {
   "cell_type": "code",
   "execution_count": null,
   "metadata": {},
   "outputs": [],
   "source": [
    "try:\n",
    "    mu.displ(1,2,3)\n",
    "except TypeError as e:\n",
    "    print(\"Error: \" + str(e))"
   ]
  }
 ],
 "metadata": {
  "kernelspec": {
   "display_name": "Python 3",
   "language": "python",
   "name": "python3"
  },
  "language_info": {
   "codemirror_mode": {
    "name": "ipython",
    "version": 3
   },
   "file_extension": ".py",
   "mimetype": "text/x-python",
   "name": "python",
   "nbconvert_exporter": "python",
   "pygments_lexer": "ipython3",
   "version": "3.6.3"
  }
 },
 "nbformat": 4,
 "nbformat_minor": 2
}

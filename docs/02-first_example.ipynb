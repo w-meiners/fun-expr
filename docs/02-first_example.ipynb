{
 "cells": [
  {
   "cell_type": "markdown",
   "metadata": {},
   "source": [
    "# A first example how to use Function_from_Expression"
   ]
  },
  {
   "cell_type": "markdown",
   "metadata": {},
   "source": [
    "Determine the equation of a linear function \n",
    "\n",
    "$$\n",
    "  f(x) = a\\,x + b\n",
    "$$ \n",
    "\n",
    "where the points $P(2|3)$ and $Q(-2,5)$ belong to the graph \n",
    "\n",
    "$$\n",
    "  y=f(x)\n",
    "$$ \n",
    "\n",
    "of $f$ and plot the graph $y=f(x)$ for $-4\\le x\\le 4$."
   ]
  },
  {
   "cell_type": "markdown",
   "metadata": {},
   "source": [
    "## Solution"
   ]
  },
  {
   "cell_type": "markdown",
   "metadata": {},
   "source": [
    "To solve this, we first need some initialisations:"
   ]
  },
  {
   "cell_type": "code",
   "execution_count": 1,
   "metadata": {},
   "outputs": [],
   "source": [
    "from sympy import *\n",
    "init_printing()\n",
    "\n",
    "import matplotlib.pyplot as plt\n",
    "\n",
    "# usually you want this\n",
    "%matplotlib inline \n",
    "\n",
    "# useful for OS X\n",
    "%config InlineBackend.figure_format='retina' \n",
    "\n",
    "import numpy as np\n",
    "\n",
    "from IPython.display import display, Math\n",
    "\n",
    "from fun_expr.function_from_expression import Function_from_Expression as FE"
   ]
  },
  {
   "cell_type": "markdown",
   "metadata": {},
   "source": [
    "In the next step, the function $f$ is defined with two unknown coefficients $a$, $b$:"
   ]
  },
  {
   "cell_type": "code",
   "execution_count": 2,
   "metadata": {},
   "outputs": [
    {
     "data": {
      "image/png": "[encoded data removed]",
      "text/latex": [
       "$$\\left( x \\mapsto a x + b \\right)$$"
      ],
      "text/plain": [
       "x ↦ a⋅x + b"
      ]
     },
     "execution_count": 2,
     "metadata": {},
     "output_type": "execute_result"
    }
   ],
   "source": [
    "# define the function\n",
    "\n",
    "# the variable of the function\n",
    "x = Symbol('x')\n",
    "\n",
    "# the unknown coefficients:\n",
    "a,b = symbols('a,b')\n",
    "\n",
    "# the function\n",
    "f = FE(x, a*x+b)\n",
    "\n",
    "# display result\n",
    "f"
   ]
  },
  {
   "cell_type": "code",
   "execution_count": 3,
   "metadata": {},
   "outputs": [
    {
     "data": {
      "text/latex": [
       "$$f(x)=a x + b$$"
      ],
      "text/plain": [
       "<IPython.core.display.Math object>"
      ]
     },
     "execution_count": 3,
     "metadata": {},
     "output_type": "execute_result"
    }
   ],
   "source": [
    "# or, better\n",
    "Math(\"f(x)=\"+latex(f(x)))"
   ]
  },
  {
   "cell_type": "markdown",
   "metadata": {},
   "source": [
    "The unknown coefficients $a$, $b$ need to be determined. To do this, a system of linear equations is derived from the given points:"
   ]
  },
  {
   "cell_type": "code",
   "execution_count": 4,
   "metadata": {},
   "outputs": [
    {
     "data": {
      "image/png": "[encoded data removed]",
      "text/latex": [
       "$$2 a + b = 3$$"
      ],
      "text/plain": [
       "2⋅a + b = 3"
      ]
     },
     "metadata": {},
     "output_type": "display_data"
    },
    {
     "data": {
      "image/png": "[encoded data removed]",
      "text/latex": [
       "$$- 2 a + b = 5$$"
      ],
      "text/plain": [
       "-2⋅a + b = 5"
      ]
     },
     "metadata": {},
     "output_type": "display_data"
    }
   ],
   "source": [
    "# define points\n",
    "pts = [(2,3),(-2,5)]\n",
    "\n",
    "# define equations\n",
    "eqns = [Eq(f(x),y) for x,y in pts]\n",
    "\n",
    "# display result\n",
    "for eq in eqns:\n",
    "    display(eq)"
   ]
  },
  {
   "cell_type": "markdown",
   "metadata": {},
   "source": [
    "The resulting system of equations is solved:"
   ]
  },
  {
   "cell_type": "code",
   "execution_count": 5,
   "metadata": {},
   "outputs": [
    {
     "data": {
      "image/png": "[encoded data removed]",
      "text/latex": [
       "$$\\left \\{ a : - \\frac{1}{2}, \\quad b : 4\\right \\}$$"
      ],
      "text/plain": [
       "{a: -1/2, b: 4}"
      ]
     },
     "execution_count": 5,
     "metadata": {},
     "output_type": "execute_result"
    }
   ],
   "source": [
    "# solve equations\n",
    "sol = solve(eqns)\n",
    "\n",
    "# display result\n",
    "sol"
   ]
  },
  {
   "cell_type": "markdown",
   "metadata": {},
   "source": [
    "The solution is substituted into the function."
   ]
  },
  {
   "cell_type": "code",
   "execution_count": 6,
   "metadata": {},
   "outputs": [
    {
     "data": {
      "text/latex": [
       "$$f(x)=- \\frac{x}{2} + 4$$"
      ],
      "text/plain": [
       "<IPython.core.display.Math object>"
      ]
     },
     "execution_count": 6,
     "metadata": {},
     "output_type": "execute_result"
    }
   ],
   "source": [
    "# substitute results into f\n",
    "f = f.subs(sol)\n",
    "\n",
    "# display result\n",
    "Math(\"f(x)=\"+latex(f(x)))"
   ]
  },
  {
   "cell_type": "markdown",
   "metadata": {},
   "source": [
    "The resulting function is plotted over the interval $-4\\le x \\le 4$"
   ]
  },
  {
   "cell_type": "code",
   "execution_count": 7,
   "metadata": {},
   "outputs": [
    {
     "data": {
      "text/plain": [
       "<matplotlib.legend.Legend at 0x115cff358>"
      ]
     },
     "execution_count": 7,
     "metadata": {},
     "output_type": "execute_result"
    },
    {
     "data": {
      "image/png": "[encoded data removed]",
      "text/plain": [
       "<matplotlib.figure.Figure at 0x10cd9f8d0>"
      ]
     },
     "metadata": {
      "image/png": {
       "height": 263,
       "width": 377
      }
     },
     "output_type": "display_data"
    }
   ],
   "source": [
    "# define new plot\n",
    "fig, ax = plt.subplots()\n",
    "\n",
    "# the interval along the x-axis\n",
    "lx = np.linspace(-4,4)\n",
    "\n",
    "# plot f(x)\n",
    "ax.plot(lx,f.lambdified(lx),label=r\"$y={f}$\".format(f=latex(f(x))))\n",
    "\n",
    "# insert the given points to the graph\n",
    "ax.scatter(*zip(*pts))\n",
    "\n",
    "# some additional commands\n",
    "ax.grid(True)\n",
    "ax.axhline(0,c='k')\n",
    "ax.axvline(0,c='k')\n",
    "ax.set_xlabel('x')\n",
    "ax.set_ylabel('y')\n",
    "ax.legend(loc='upper right')"
   ]
  }
 ],
 "metadata": {
  "kernelspec": {
   "display_name": "Python 3",
   "language": "python",
   "name": "python3"
  },
  "language_info": {
   "codemirror_mode": {
    "name": "ipython",
    "version": 3
   },
   "file_extension": ".py",
   "mimetype": "text/x-python",
   "name": "python",
   "nbconvert_exporter": "python",
   "pygments_lexer": "ipython3",
   "version": "3.6.3"
  }
 },
 "nbformat": 4,
 "nbformat_minor": 2
}
